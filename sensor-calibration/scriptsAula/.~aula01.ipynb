{
 "cells": [
  {
   "cell_type": "markdown",
   "id": "64890f99-b4b9-43bf-ad50-b13d9920ce64",
   "metadata": {},
   "source": [
    "# aula01"
   ]
  },
  {
   "cell_type": "markdown",
   "id": "42706efb-403e-48b0-91ca-c873837dafc1",
   "metadata": {},
   "source": [
    "## tipos de dados\n",
    "* String\n",
    "* Boolean\n",
    "* NaN\n",
    "* Integer\n",
    "* Float"
   ]
  },
  {
   "cell_type": "code",
   "execution_count": 1,
   "id": "8b1eb12f-6255-4cb5-818a-23a679bb4d87",
   "metadata": {},
   "outputs": [
    {
     "name": "stdout",
     "output_type": "stream",
     "text": [
      "Ana\n",
      "names e uma variavel do tipo:<class 'str'>\n"
     ]
    }
   ],
   "source": [
    "# criando uma variavel str\n",
    "names = 'Ana'\n",
    "# exibir\n",
    "print(names)\n",
    "# concatenar strings e exibir tipo de variavel\n",
    "print('names e uma variavel do tipo:' + str(type(names)))\n",
    "\n"
   ]
  },
  {
   "cell_type": "code",
   "execution_count": null,
   "id": "89857ba4-a540-4800-887f-7108739f6441",
   "metadata": {},
   "outputs": [],
   "source": []
  }
 ],
 "metadata": {
  "kernelspec": {
   "display_name": "Python 3 (ipykernel)",
   "language": "python",
   "name": "python3"
  },
  "language_info": {
   "codemirror_mode": {
    "name": "ipython",
    "version": 3
   },
   "file_extension": ".py",
   "mimetype": "text/x-python",
   "name": "python",
   "nbconvert_exporter": "python",
   "pygments_lexer": "ipython3",
   "version": "3.11.5"
  }
 },
 "nbformat": 4,
 "nbformat_minor": 5
}
