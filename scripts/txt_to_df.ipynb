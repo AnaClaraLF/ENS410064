{
 "cells": [
  {
   "cell_type": "markdown",
   "id": "b9d2b17c-41dc-468f-b5a2-a3612c0d110e",
   "metadata": {},
   "source": [
    "### função para construir df com txts"
   ]
  },
  {
   "cell_type": "code",
   "execution_count": 1,
   "id": "2b6a8114-ac6b-455f-a460-5ecc8483107f",
   "metadata": {},
   "outputs": [],
   "source": [
    "# criando uma funcao\n",
    "def txt_to_df(path, d_start, d_end, d_interval):\n",
    "\n",
    "    \"\"\"esta funcao abre txts de uma pasta(path), constrói um df com o periodo informado e salva o df na pasta com nome df_todos.pkl\n",
    "    a data deve ser formado d_start = 1990-01-01 00:00:00\n",
    "    o formato do intervalo deve ser D\"\"\"\n",
    "    \n",
    "    # import needed libraries\n",
    "    import pandas as pd\n",
    "    import os\n",
    "    \n",
    "    #del(allData,all,allD,dtime,dt) #deletar variavel, caso haja, como não dar aviso?\n",
    "    \n",
    "    # list and print files on dir\n",
    "    files = os.listdir(path)\n",
    "    print('estas sao as estacoes salvas na pasta:',files)\n",
    "    \n",
    "    # import data to variable allData\n",
    "    allData = [pd.read_csv(path+file) for file in files] # ler txts e colocar na lista\n",
    "        \n",
    "    # make a df variable with data, to allow naming columns\n",
    "    all = pd.concat(allData, axis=1) # concatenar em um df?\n",
    "    \n",
    "    all.columns = [file[0:8] for file in files] # nomes das colunas conforme arquivos\n",
    "        \n",
    "    # make datetime vector with data interval\n",
    "    dtime = pd.date_range(start=d_start, end=d_end, freq=d_interv)\n",
    "    \n",
    "    # assign vector do df column\n",
    "    all['datetime'] = dtime\n",
    "    \n",
    "    # transforma em datetime\n",
    "    all['datetime'] = pd.to_datetime(all['datetime'])\n",
    "    \n",
    "    # transform datetime to index\n",
    "    all.set_index('datetime', inplace=True) # por alguma razao desconhecida só funciona se substituir a coluna e nao repetir\n",
    "        \n",
    "    # cria colunas mes ano dia\n",
    "    all.index.year\n",
    "    all['year'] = all.index.year\n",
    "    all['month'] = all.index.month\n",
    "    all['day'] = all.index.day\n",
    "    all # print variable\n",
    "    \n",
    "    #save DataFrame to pickle file\n",
    "    all.to_pickle('D:/ENS410064/Dados/ExAulas/'+'df_todos.pkl')\n",
    "    #save to csv\n",
    "    all.to_csv('D:/ENS410064/Dados/ExAulas/'+'df_todos.csv')\n",
    "    print('dataframe salvo em',path)\n",
    "    return all"
   ]
  },
  {
   "cell_type": "code",
   "execution_count": 2,
   "id": "8818e112-4b89-493e-b963-1f528ae648c0",
   "metadata": {},
   "outputs": [
    {
     "data": {
      "text/plain": [
       "<function __main__.txt_to_df(path, d_start, d_end, d_interval)>"
      ]
     },
     "execution_count": 2,
     "metadata": {},
     "output_type": "execute_result"
    }
   ],
   "source": [
    "txt_to_df\n"
   ]
  },
  {
   "cell_type": "code",
   "execution_count": null,
   "id": "2d5e06af-9af0-45d0-8309-af2538eefaf2",
   "metadata": {},
   "outputs": [],
   "source": []
  }
 ],
 "metadata": {
  "kernelspec": {
   "display_name": "Python 3 (ipykernel)",
   "language": "python",
   "name": "python3"
  },
  "language_info": {
   "codemirror_mode": {
    "name": "ipython",
    "version": 3
   },
   "file_extension": ".py",
   "mimetype": "text/x-python",
   "name": "python",
   "nbconvert_exporter": "python",
   "pygments_lexer": "ipython3",
   "version": "3.11.5"
  }
 },
 "nbformat": 4,
 "nbformat_minor": 5
}
