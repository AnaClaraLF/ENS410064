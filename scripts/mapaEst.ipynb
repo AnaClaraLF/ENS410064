{
 "cells": [
  {
   "cell_type": "code",
   "execution_count": 23,
   "id": "f680526f-6216-44cc-887d-8d9889d4f9c6",
   "metadata": {
    "scrolled": true
   },
   "outputs": [],
   "source": [
    "import folium as fl\n",
    "import geopandas as gpd\n",
    "import matplotlib.pyplot as plt\n",
    "import rasterio\n",
    "import rasterio.features\n",
    "import rasterio.warp\n",
    "from rasterio.mask import mask\n",
    "import os \n",
    "import numpy as np\n",
    "import earthpy as et \n",
    "\n",
    "# fazer mapa das estacoes fluv"
   ]
  },
  {
   "cell_type": "code",
   "execution_count": null,
   "id": "ff0dfb8d-132f-4539-bcd1-8eeb79fb8e23",
   "metadata": {
    "scrolled": true
   },
   "outputs": [],
   "source": [
    "# load metadata from ANA\n",
    "#efluv = 'D:/ENS410064/Dados/brutos/ANA/metadata_ANA-flow_2023-10-03.txt' \n",
    "# get lat lon from used stations \n",
    "\n",
    "br = gpd.read_file(r'Z:\\- GIS -\\IBGE\\SC_Municipios_2020\\SC_Municipios_2020.shp')\n",
    "#D:\\GeoBase\\IBGE\\BR_Municipios_2020')\n",
    "fig,ax = plt.subplots()\n",
    "#br.plot(ax=ax)\n",
    "\n",
    "br[br['SIGLA_UF']=='SC'].explore()\n",
    "br[br['SIGLA_UF']=='SC'].explore('AREA_KM2')"
   ]
  },
  {
   "cell_type": "code",
   "execution_count": 40,
   "id": "bdb6c643-625a-4638-91d0-ddc0adc8f1c6",
   "metadata": {},
   "outputs": [
    {
     "data": {
      "text/plain": [
       "6681"
      ]
     },
     "execution_count": 40,
     "metadata": {},
     "output_type": "execute_result"
    }
   ],
   "source": [
    "srtm = rasterio.open(r'Z:\\- GIS -\\SRTM\\SRTM_SC_UTM.tif')\n",
    "srtm.width"
   ]
  },
  {
   "cell_type": "code",
   "execution_count": 31,
   "id": "41e7bfec-e43c-48ad-9bbe-51968e6fd339",
   "metadata": {},
   "outputs": [
    {
     "data": {
      "text/plain": [
       "4114"
      ]
     },
     "execution_count": 31,
     "metadata": {},
     "output_type": "execute_result"
    }
   ],
   "source": [
    "srtm.height"
   ]
  },
  {
   "cell_type": "code",
   "execution_count": 32,
   "id": "db8b317c-2539-4669-8855-6ce0b0b3ad80",
   "metadata": {},
   "outputs": [
    {
     "data": {
      "text/plain": [
       "{1: 'float32'}"
      ]
     },
     "execution_count": 32,
     "metadata": {},
     "output_type": "execute_result"
    }
   ],
   "source": [
    "{i: dtype for i, dtype in zip(srtm.indexes, srtm.dtypes)}"
   ]
  },
  {
   "cell_type": "code",
   "execution_count": 8,
   "id": "b601d423-cb43-4004-bf78-3c8d3b237da4",
   "metadata": {},
   "outputs": [
    {
     "data": {
      "text/plain": [
       "BoundingBox(left=215894.1758, bottom=6749106.6746, right=764486.2397, top=7129160.9218)"
      ]
     },
     "execution_count": 8,
     "metadata": {},
     "output_type": "execute_result"
    }
   ],
   "source": [
    "srtm.bounds"
   ]
  },
  {
   "cell_type": "code",
   "execution_count": 27,
   "id": "8c61f1d9-32f5-4215-9cd6-fd6b09aa3f16",
   "metadata": {},
   "outputs": [
    {
     "data": {
      "text/plain": [
       "CRS.from_epsg(31982)"
      ]
     },
     "execution_count": 27,
     "metadata": {},
     "output_type": "execute_result"
    }
   ],
   "source": [
    "srtm.crs"
   ]
  },
  {
   "cell_type": "code",
   "execution_count": 10,
   "id": "59bc78be-f749-403a-ac4d-945e32598ab6",
   "metadata": {},
   "outputs": [
    {
     "data": {
      "text/plain": [
       "(1,)"
      ]
     },
     "execution_count": 10,
     "metadata": {},
     "output_type": "execute_result"
    }
   ],
   "source": [
    "srtm.indexes"
   ]
  },
  {
   "cell_type": "code",
   "execution_count": 12,
   "id": "fd3356c6-dd21-4c61-8f6d-47b66bb9ed2c",
   "metadata": {},
   "outputs": [
    {
     "data": {
      "text/plain": [
       "array([[0., 0., 0., ..., 0., 0., 0.],\n",
       "       [0., 0., 0., ..., 0., 0., 0.],\n",
       "       [0., 0., 0., ..., 0., 0., 0.],\n",
       "       ...,\n",
       "       [0., 0., 0., ..., 0., 0., 0.],\n",
       "       [0., 0., 0., ..., 0., 0., 0.],\n",
       "       [0., 0., 0., ..., 0., 0., 0.]], dtype=float32)"
      ]
     },
     "execution_count": 12,
     "metadata": {},
     "output_type": "execute_result"
    }
   ],
   "source": [
    "band1 = srtm.read(1)\n",
    "band1"
   ]
  },
  {
   "cell_type": "code",
   "execution_count": 37,
   "id": "ca40b8bf-0377-4502-9cec-4abebec28cba",
   "metadata": {},
   "outputs": [
    {
     "data": {
      "text/plain": [
       "<Projected CRS: EPSG:31982>\n",
       "Name: SIRGAS 2000 / UTM zone 22S\n",
       "Axis Info [cartesian]:\n",
       "- E[east]: Easting (metre)\n",
       "- N[north]: Northing (metre)\n",
       "Area of Use:\n",
       "- name: Brazil - between 54°W and 48°W, northern and southern hemispheres, onshore and offshore. In remainder of South America - between 54°W and 48°W, southern hemisphere, onshore and offshore.\n",
       "- bounds: (-54.0, -54.18, -47.99, 7.04)\n",
       "Coordinate Operation:\n",
       "- name: UTM zone 22S\n",
       "- method: Transverse Mercator\n",
       "Datum: Sistema de Referencia Geocentrico para las AmericaS 2000\n",
       "- Ellipsoid: GRS 1980\n",
       "- Prime Meridian: Greenwich"
      ]
     },
     "execution_count": 37,
     "metadata": {},
     "output_type": "execute_result"
    }
   ],
   "source": [
    "shape1 = gpd.read_file(r'Z:\\- GIS -\\IBGE\\vegetacao\\VG_REG_FITO_UTM_SC.shp')\n",
    "shape1.crs"
   ]
  },
  {
   "cell_type": "code",
   "execution_count": 38,
   "id": "c78458be-2eb1-42bf-96ef-f5728f5bc8f2",
   "metadata": {},
   "outputs": [],
   "source": [
    "# extract the geometry in GeoJSON format\n",
    "geoms = shape1.geometry.values # list of shapely geometries\n",
    "geometry = geoms[0] # shapely geometry\n",
    "# transform to GeJSON format\n",
    "from shapely.geometry import mapping\n",
    "geoms = [mapping(geoms[0])]"
   ]
  },
  {
   "cell_type": "code",
   "execution_count": 41,
   "id": "2f419ba5-a3aa-4826-a1ac-b5b56d4ffb3d",
   "metadata": {},
   "outputs": [],
   "source": [
    "# extract the raster values within the polygon \n",
    "with srtm as src:\n",
    "     out_image, out_transform = mask(src, geoms, crop=True)"
   ]
  },
  {
   "cell_type": "code",
   "execution_count": 36,
   "id": "592f4a43-dc54-4756-bec3-736a9b0d9c9d",
   "metadata": {},
   "outputs": [
    {
     "ename": "NotImplementedError",
     "evalue": "multi-dimensional sub-views are not implemented",
     "output_type": "error",
     "traceback": [
      "\u001b[1;31m---------------------------------------------------------------------------\u001b[0m",
      "\u001b[1;31mNotImplementedError\u001b[0m                       Traceback (most recent call last)",
      "Cell \u001b[1;32mIn[36], line 2\u001b[0m\n\u001b[0;32m      1\u001b[0m \u001b[38;5;66;03m# extract the values of the masked array\u001b[39;00m\n\u001b[1;32m----> 2\u001b[0m data \u001b[38;5;241m=\u001b[39m \u001b[43mout_image\u001b[49m\u001b[38;5;241;43m.\u001b[39;49m\u001b[43mdata\u001b[49m\u001b[43m[\u001b[49m\u001b[38;5;241;43m0\u001b[39;49m\u001b[43m]\u001b[49m\n\u001b[0;32m      3\u001b[0m \u001b[38;5;66;03m# extract the row, columns of the valid values\u001b[39;00m\n\u001b[0;32m      4\u001b[0m \u001b[38;5;28;01mimport\u001b[39;00m \u001b[38;5;21;01mnumpy\u001b[39;00m \u001b[38;5;28;01mas\u001b[39;00m \u001b[38;5;21;01mnp\u001b[39;00m\n",
      "\u001b[1;31mNotImplementedError\u001b[0m: multi-dimensional sub-views are not implemented"
     ]
    }
   ],
   "source": [
    "# extract the values of the masked array\n",
    "data = out_image.data[0]\n",
    "# extract the row, columns of the valid values\n",
    "import numpy as np\n",
    "row, col = np.where(data != no_data) \n",
    "elev = np.extract(data != no_data, data)\n",
    "from rasterio import Affine # or from affine import Affine\n",
    "T1 = out_transform * Affine.translation(0.5, 0.5) # reference the pixel centre\n",
    "rc2xy = lambda r, c: (c, r) * T1  \n"
   ]
  },
  {
   "cell_type": "code",
   "execution_count": null,
   "id": "e1471dbf-7cd8-467f-8c37-348345612069",
   "metadata": {},
   "outputs": [],
   "source": [
    "\n",
    "d = gpd.GeoDataFrame({'col':col,'row':row,'elev':elev})\n",
    "# coordinate transformation\n",
    "d['x'] = d.apply(lambda row: rc2xy(row.row,row.col)[0], axis=1)\n",
    "d['y'] = d.apply(lambda row: rc2xy(row.row,row.col)[1], axis=1)\n",
    "# geometry\n",
    "from shapely.geometry import Point\n",
    "d['geometry'] =d.apply(lambda row: Point(row['x'], row['y']), axis=1)\n",
    "# first 2 points\n",
    "d.head(2)\n",
    "# save to a shapefile\n",
    "d.to_file('result.shp', driver='ESRI Shapefile')"
   ]
  },
  {
   "cell_type": "code",
   "execution_count": null,
   "id": "fa119453-4af2-4bd8-916d-ddfd89cb03aa",
   "metadata": {},
   "outputs": [],
   "source": [
    "with srtm as dataset:\n",
    "\n",
    "    # Read the dataset's valid data mask as a ndarray.\n",
    "    mask = dataset.dataset_mask()\n",
    "\n",
    "    # Extract feature shapes and values from the array.\n",
    "    for geom, val in rasterio.features.shapes(\n",
    "            mask, transform=dataset.transform):\n",
    "\n",
    "        # Transform shapes from the dataset's own coordinate\n",
    "        # reference system to CRS84 (EPSG:4326).\n",
    "        geom = rasterio.warp.transform_geom(\n",
    "            dataset.crs, 'EPSG:4326', geom, precision=6)\n",
    "\n",
    "        # Print GeoJSON shapes to stdout.\n",
    "        print(geom)\n"
   ]
  },
  {
   "cell_type": "code",
   "execution_count": null,
   "id": "5628c133-ae46-43b3-9d77-980c52377e7d",
   "metadata": {},
   "outputs": [],
   "source": []
  }
 ],
 "metadata": {
  "kernelspec": {
   "display_name": "Python 3 (ipykernel)",
   "language": "python",
   "name": "python3"
  },
  "language_info": {
   "codemirror_mode": {
    "name": "ipython",
    "version": 3
   },
   "file_extension": ".py",
   "mimetype": "text/x-python",
   "name": "python",
   "nbconvert_exporter": "python",
   "pygments_lexer": "ipython3",
   "version": "3.11.5"
  }
 },
 "nbformat": 4,
 "nbformat_minor": 5
}
