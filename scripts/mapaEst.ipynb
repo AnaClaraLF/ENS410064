{
 "cells": [
  {
   "cell_type": "code",
   "execution_count": null,
   "id": "f680526f-6216-44cc-887d-8d9889d4f9c6",
   "metadata": {
    "scrolled": true
   },
   "outputs": [],
   "source": [
    "import folium as fl\n",
    "import geopandas as gpd\n",
    "import matplotlib.pyplot as plt\n",
    "# fazer mapa das estacoes fluv\n",
    "\n",
    "# load metadata from ANA\n",
    "efluv = 'D:/ENS410064/Dados/brutos/ANA/metadata_ANA-flow_2023-10-03.txt' \n",
    "# get lat lon from used stations \n",
    "\n",
    "br = gpd.read_file(r'D:\\GeoBase\\IBGE\\BR_Municipios_2020')\n",
    "fig,ax = plt.subplots()\n",
    "#br.plot(ax=ax)\n",
    "\n",
    "br[br['SIGLA_UF']=='SC'].explore()\n",
    "#mapa = fl.Map(location = [])\n",
    "#mapa"
   ]
  },
  {
   "cell_type": "code",
   "execution_count": null,
   "id": "ff0dfb8d-132f-4539-bcd1-8eeb79fb8e23",
   "metadata": {
    "scrolled": true
   },
   "outputs": [],
   "source": [
    "br[br['SIGLA_UF']=='SC'].explore('AREA_KM2')"
   ]
  },
  {
   "cell_type": "code",
   "execution_count": null,
   "id": "5e852e95-7d7c-4d70-920e-57cb313a3166",
   "metadata": {},
   "outputs": [],
   "source": [
    "import rasterio"
   ]
  },
  {
   "cell_type": "code",
   "execution_count": null,
   "id": "fe881d66-1fa7-4649-aad0-d047d2a801c7",
   "metadata": {},
   "outputs": [],
   "source": []
  },
  {
   "cell_type": "code",
   "execution_count": null,
   "id": "5628c133-ae46-43b3-9d77-980c52377e7d",
   "metadata": {},
   "outputs": [],
   "source": []
  }
 ],
 "metadata": {
  "kernelspec": {
   "display_name": "Python 3 (ipykernel)",
   "language": "python",
   "name": "python3"
  },
  "language_info": {
   "codemirror_mode": {
    "name": "ipython",
    "version": 3
   },
   "file_extension": ".py",
   "mimetype": "text/x-python",
   "name": "python",
   "nbconvert_exporter": "python",
   "pygments_lexer": "ipython3",
   "version": "3.11.5"
  }
 },
 "nbformat": 4,
 "nbformat_minor": 5
}
