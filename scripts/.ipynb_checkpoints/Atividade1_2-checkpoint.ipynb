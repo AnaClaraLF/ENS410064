{
 "cells": [
  {
   "cell_type": "markdown",
   "id": "0fbf19bb-1d2f-4f19-88a0-edc2ffecca91",
   "metadata": {},
   "source": [
    "## Atividade 1\n",
    "\n",
    "Atividade 1.2: Análise de dados com python, Series temporais.\n"
   ]
  },
  {
   "cell_type": "code",
   "execution_count": 1,
   "id": "2b6a8114-ac6b-455f-a460-5ecc8483107f",
   "metadata": {},
   "outputs": [],
   "source": [
    "# criando uma funcao\n",
    "def txt_to_df(path, d_start, d_end, d_interval):\n",
    "\n",
    "    \"\"\"esta funcao abre txts de uma pasta(path), constrói um df com o periodo informado e salva o df na pasta com nome df_todos.pkl\n",
    "    a data deve ser formado d_start = 1990-01-01 00:00:00\n",
    "    o formato do intervalo deve ser D\"\"\"\n",
    "    \n",
    "    # import needed libraries\n",
    "    import pandas as pd\n",
    "    import os\n",
    "    \n",
    "    #del(allData,all,allD,dtime,dt) #deletar variavel, caso haja, como não dar aviso?\n",
    "    \n",
    "    # list and print files on dir\n",
    "    files = os.listdir(path)\n",
    "    print('estas sao as estacoes salvas na pasta:',files)\n",
    "    \n",
    "    # import data to variable allData\n",
    "    allData = [pd.read_csv(path+file) for file in files] # ler txts e colocar na lista\n",
    "        \n",
    "    # make a df variable with data, to allow naming columns\n",
    "    all = pd.concat(allData, axis=1) # concatenar em um df?\n",
    "    \n",
    "    all.columns = [file[0:8] for file in files] # nomes das colunas conforme arquivos\n",
    "        \n",
    "    # make datetime vector with data interval\n",
    "    dtime = pd.date_range(start=d_start, end=d_end, freq=d_interv)\n",
    "    \n",
    "    # assign vector do df column\n",
    "    all['datetime'] = dtime\n",
    "    \n",
    "    # transforma em datetime\n",
    "    all['datetime'] = pd.to_datetime(all['datetime'])\n",
    "    \n",
    "    # transform datetime to index\n",
    "    all.set_index('datetime', inplace=True) # por alguma razao desconhecida só funciona se substituir a coluna e nao repetir\n",
    "        \n",
    "    # cria colunas mes ano dia\n",
    "    all.index.year\n",
    "    all['year'] = all.index.year\n",
    "    all['month'] = all.index.month\n",
    "    all['day'] = all.index.day\n",
    "    all # print variable\n",
    "    \n",
    "    #save DataFrame to pickle file\n",
    "    all.to_pickle('D:/ENS410064/Dados/ExAulas/'+'df_todos.pkl')\n",
    "    #save to csv\n",
    "    all.to_csv('D:/ENS410064/Dados/ExAulas/'+'df_todos.csv')\n",
    "    print('dataframe salvo em',path)\n",
    "    return all"
   ]
  },
  {
   "cell_type": "code",
   "execution_count": null,
   "id": "c29c3abd-f07c-475d-8acc-8948c8854b5c",
   "metadata": {},
   "outputs": [],
   "source": [
    "# import needed libraries\n",
    "import numpy as np\n",
    "import pandas as pd\n",
    "import os\n",
    "import matplotlib.pyplot as plt\n",
    "\n",
    "# path to folder with files\n",
    "mpath='D:/ENS410064/Dados/DataENS/ObsFlow_SWAT/diario19902012/'\n",
    "# note to date interval\n",
    "dstart = '1990-01-01 00:00:00'\n",
    "dend = '2012-12-31 00:00:00'\n",
    "dinterv = 'D'\n",
    "\n",
    "# list and print files on dir\n",
    "files = os.listdir(path)\n",
    "print('estas sao as estacoes salvas na pasta:',files)\n",
    "\n"
   ]
  },
  {
   "cell_type": "code",
   "execution_count": null,
   "id": "e49e8252-10a3-4cc3-bd4c-122c34bbe521",
   "metadata": {},
   "outputs": [],
   "source": [
    "# utilizar a funcao construida para fazer um df e um csv com os dados\n",
    "txt_to_df(mpath,dstart,dend,dinterval)"
   ]
  },
  {
   "cell_type": "code",
   "execution_count": null,
   "id": "0b22beb1-daba-4ce9-a508-9dbd803d4d65",
   "metadata": {},
   "outputs": [],
   "source": [
    "\n",
    "\n",
    "# abrir dataframe # read DataFrame from pickle file\n",
    "Qdia = pd.read_pickle('D:/ENS410064/Dados/ExAulas/df_aula.pkl')\n",
    "Qdia # print df\n"
   ]
  },
  {
   "cell_type": "code",
   "execution_count": null,
   "id": "59eed8c0-b0f7-4307-8f27-641eb21a142c",
   "metadata": {},
   "outputs": [],
   "source": [
    "Qdia.iloc[0:10,27:32] # print one station"
   ]
  },
  {
   "cell_type": "code",
   "execution_count": null,
   "id": "7ae9eab7-84fa-457c-9e58-ca0d57a7e870",
   "metadata": {},
   "outputs": [],
   "source": [
    "# plotar vazao diaria\n",
    "fig, ax = plt.subplots(3)\n",
    "ax[0].plot(Qdia.iloc[:,0:9])\n",
    "ax[1].plot(Qdia.iloc[:,10:19])\n",
    "ax[2].plot(Qdia.iloc[:,20:27])\n"
   ]
  },
  {
   "cell_type": "code",
   "execution_count": null,
   "id": "bca6a70c-f51b-47b7-bb97-8ffddeac4c23",
   "metadata": {},
   "outputs": [],
   "source": [
    "#fazer medias\n",
    "Q_monthly = Qdia.resample('M').mean() # serie de vazoes medias mensais\n",
    "# medias mensais\n",
    "Q_month.groupby(Q_monthly.month).mean() # medias mensais\n",
    "# plotar medias mensais\n",
    "fig, ax = plt.subplots(3)\n",
    "ax[0].plot(Q_month.iloc[:,0:9])\n",
    "ax[1].plot(Q_month.iloc[:,10:19])\n",
    "ax[2].plot(Q_month.iloc[:,20:27])"
   ]
  },
  {
   "cell_type": "code",
   "execution_count": null,
   "id": "87aff3a6-8aa9-4713-b571-13c8608d7cac",
   "metadata": {},
   "outputs": [],
   "source": [
    "# maximas diarias anuais\n",
    "Qdia_max = Qdia.resample('Y').max() # serie de vazoes maximas diarias anuais\n",
    "# como ignorar NaN?\n",
    "\n",
    "\n",
    "# calcular Q7,10\n",
    "Q7med = Qdia.rolling(7).mean() # media movel de 7 dias na serie inteira\n",
    "Q7anual = Q7med.resample('Y').min() # serie de minimas anuais de médias de sete dias\n",
    "# drop year day month columns\n",
    "Q7med.drop(['year', 'month', 'day'], axis=1, inplace=True)\n",
    "Q7anual.drop(['year', 'month', 'day'], axis=1, inplace=True)"
   ]
  },
  {
   "cell_type": "code",
   "execution_count": null,
   "id": "db1d91b3-1e70-4790-852e-2b5d3452b574",
   "metadata": {},
   "outputs": [],
   "source": [
    "# find best distribution fit for Q7 of each station\n",
    "\n",
    "# Import library\n",
    "from distfit import distfit\n",
    "\n",
    "dfit = distfit()        # Initialize \n",
    "\n",
    "# Determine best-fitting probability distribution for data\n",
    "# loop for each station\n",
    "Q7_10 = pd.DataFrame() # first, create empty df to store results for each station\n",
    "\n",
    "for column in Q7anual:\n",
    "    # first, order values and drop NaNs\n",
    "    del(q7t) # clear temp var - how to not show warning?\n",
    "    q7t = Q7anual(column) # reassign to temporary variable\n",
    "    q7t = q7t.dropna() # drop NaNs\n",
    "    q7t.sort_values(ascending=True, inplace=True) # sort ascending    \n",
    "    Q7_10.append = dfit.fit_transform(q7t) # assign result from distfit to new var\n",
    "    \n"
   ]
  },
  {
   "cell_type": "code",
   "execution_count": null,
   "id": "b72a0fa3-2f20-44d8-a6f2-69e16a2e92ad",
   "metadata": {},
   "outputs": [],
   "source": [
    "\n",
    "# Distribution parameters for best fit\n",
    "dfit.model\n",
    "\n",
    "dfit.plot()\n",
    "\n",
    "dfit.plot_summary()\n",
    "\n",
    "# QQ-plot for top 10 fitted distributions\n",
    "\n",
    "fig, ax = dfit.qqplot(q7t, n_top=10)\n",
    "\n",
    "# Plot PDF\n",
    "\n",
    "fig, ax = dfit.plot(chart='pdf')\n",
    "\n",
    "\n",
    "# Add the CDF to the plot\n",
    "\n",
    "fig, ax = dfit.plot(chart='cdf', n_top=1, ax=ax)"
   ]
  }
 ],
 "metadata": {
  "kernelspec": {
   "display_name": "Python 3 (ipykernel)",
   "language": "python",
   "name": "python3"
  },
  "language_info": {
   "codemirror_mode": {
    "name": "ipython",
    "version": 3
   },
   "file_extension": ".py",
   "mimetype": "text/x-python",
   "name": "python",
   "nbconvert_exporter": "python",
   "pygments_lexer": "ipython3",
   "version": "3.11.5"
  }
 },
 "nbformat": 4,
 "nbformat_minor": 5
}
