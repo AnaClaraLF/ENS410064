{
 "cells": [
  {
   "cell_type": "code",
   "execution_count": 6,
   "id": "f680526f-6216-44cc-887d-8d9889d4f9c6",
   "metadata": {
    "scrolled": true
   },
   "outputs": [],
   "source": [
    "import pandas as pd\n",
    "import geopandas as gpd\n",
    "from matplotlib import pyplot as plt\n",
    "import rasterio\n",
    "import rasterio.features\n",
    "from rasterio.mask import mask\n",
    "from rasterio.plot import show\n",
    "import os \n",
    "import numpy as np\n",
    "from rasterstats import zonal_stats\n",
    "import fiona"
   ]
  },
  {
   "cell_type": "code",
   "execution_count": 2,
   "id": "ff0dfb8d-132f-4539-bcd1-8eeb79fb8e23",
   "metadata": {
    "scrolled": true
   },
   "outputs": [],
   "source": [
    "# #br = gpd.read_file(r'Z:\\- GIS -\\IBGE\\SC_Municipios_2020\\SC_Municipios_2020.shp')\n",
    "# sc = gpd.read_file(r'D:\\GeoBase\\IBGE\\Municipios_SC_UTM.shp')\n",
    "# fig,ax = plt.subplots()\n",
    "# #br.plot(ax=ax)\n",
    "\n",
    "# #br[br['SIGLA_UF']=='SC'].explore()\n",
    "# sc[sc['SIGLA_UF']=='SC'].explore('AREA_KM2')"
   ]
  },
  {
   "cell_type": "code",
   "execution_count": 12,
   "id": "bdb6c643-625a-4638-91d0-ddc0adc8f1c6",
   "metadata": {},
   "outputs": [
    {
     "data": {
      "text/plain": [
       "18207"
      ]
     },
     "execution_count": 12,
     "metadata": {},
     "output_type": "execute_result"
    }
   ],
   "source": [
    "#srtm = rasterio.open(r'Z:\\- GIS -\\SRTM\\SRTM_SC_UTM.tif')\n",
    "srtm = rasterio.open(r'D:\\GeoBase\\EPAGRI\\SRTM\\SRTM_SC_UTM_SIRGAS.tif') #SRTM_SC_UTM_SIRGAS.tif')\n",
    "srtm.width\n"
   ]
  },
  {
   "cell_type": "code",
   "execution_count": 13,
   "id": "41e7bfec-e43c-48ad-9bbe-51968e6fd339",
   "metadata": {},
   "outputs": [
    {
     "data": {
      "text/plain": [
       "12615"
      ]
     },
     "execution_count": 13,
     "metadata": {},
     "output_type": "execute_result"
    }
   ],
   "source": [
    "srtm.height"
   ]
  },
  {
   "cell_type": "code",
   "execution_count": 14,
   "id": "db8b317c-2539-4669-8855-6ce0b0b3ad80",
   "metadata": {},
   "outputs": [
    {
     "data": {
      "text/plain": [
       "{1: 'float32'}"
      ]
     },
     "execution_count": 14,
     "metadata": {},
     "output_type": "execute_result"
    }
   ],
   "source": [
    "{i: dtype for i, dtype in zip(srtm.indexes, srtm.dtypes)}"
   ]
  },
  {
   "cell_type": "code",
   "execution_count": 15,
   "id": "b601d423-cb43-4004-bf78-3c8d3b237da4",
   "metadata": {},
   "outputs": [
    {
     "data": {
      "text/plain": [
       "BoundingBox(left=216916.3754, bottom=6750693.5841, right=763126.3754, top=7129143.5841)"
      ]
     },
     "execution_count": 15,
     "metadata": {},
     "output_type": "execute_result"
    }
   ],
   "source": [
    "srtm.bounds"
   ]
  },
  {
   "cell_type": "code",
   "execution_count": 16,
   "id": "8c61f1d9-32f5-4215-9cd6-fd6b09aa3f16",
   "metadata": {},
   "outputs": [
    {
     "data": {
      "text/plain": [
       "CRS.from_epsg(31982)"
      ]
     },
     "execution_count": 16,
     "metadata": {},
     "output_type": "execute_result"
    }
   ],
   "source": [
    "srtm.crs"
   ]
  },
  {
   "cell_type": "code",
   "execution_count": 17,
   "id": "59bc78be-f749-403a-ac4d-945e32598ab6",
   "metadata": {},
   "outputs": [
    {
     "data": {
      "text/plain": [
       "(1,)"
      ]
     },
     "execution_count": 17,
     "metadata": {},
     "output_type": "execute_result"
    }
   ],
   "source": [
    "srtm.indexes"
   ]
  },
  {
   "cell_type": "code",
   "execution_count": 18,
   "id": "fd3356c6-dd21-4c61-8f6d-47b66bb9ed2c",
   "metadata": {},
   "outputs": [
    {
     "data": {
      "text/plain": [
       "array([[-3.4028235e+38, -3.4028235e+38, -3.4028235e+38, ...,\n",
       "        -3.4028235e+38, -3.4028235e+38, -3.4028235e+38],\n",
       "       [-3.4028235e+38, -3.4028235e+38, -3.4028235e+38, ...,\n",
       "        -3.4028235e+38, -3.4028235e+38, -3.4028235e+38],\n",
       "       [-3.4028235e+38, -3.4028235e+38, -3.4028235e+38, ...,\n",
       "        -3.4028235e+38, -3.4028235e+38, -3.4028235e+38],\n",
       "       ...,\n",
       "       [-3.4028235e+38, -3.4028235e+38, -3.4028235e+38, ...,\n",
       "        -3.4028235e+38, -3.4028235e+38, -3.4028235e+38],\n",
       "       [-3.4028235e+38, -3.4028235e+38, -3.4028235e+38, ...,\n",
       "        -3.4028235e+38, -3.4028235e+38, -3.4028235e+38],\n",
       "       [-3.4028235e+38, -3.4028235e+38, -3.4028235e+38, ...,\n",
       "        -3.4028235e+38, -3.4028235e+38, -3.4028235e+38]], dtype=float32)"
      ]
     },
     "execution_count": 18,
     "metadata": {},
     "output_type": "execute_result"
    }
   ],
   "source": [
    "band1 = srtm.read(1)\n",
    "band1"
   ]
  },
  {
   "cell_type": "code",
   "execution_count": 19,
   "id": "626cf255-c9a5-4c46-9e83-f7c0c4ff9a64",
   "metadata": {},
   "outputs": [],
   "source": [
    " affine = srtm.transform"
   ]
  },
  {
   "cell_type": "code",
   "execution_count": 20,
   "id": "f0dea239-de32-4bef-b17f-829013453402",
   "metadata": {},
   "outputs": [
    {
     "name": "stdout",
     "output_type": "stream",
     "text": [
      "-3.4028234663852886e+38\n"
     ]
    }
   ],
   "source": [
    "# no data values of the original raster\n",
    "no_data=srtm.nodata\n",
    "print(no_data)"
   ]
  },
  {
   "cell_type": "code",
   "execution_count": null,
   "id": "6e382248-b29e-4f75-ac13-b0c8ae714479",
   "metadata": {},
   "outputs": [],
   "source": [
    "# change no data values?\n",
    "# Replace nodata values with a new value (e.g., 0) new_raster_data = np.where(raster_data == nodata_value, 0, raster_data) "
   ]
  },
  {
   "cell_type": "code",
   "execution_count": 10,
   "id": "ca40b8bf-0377-4502-9cec-4abebec28cba",
   "metadata": {},
   "outputs": [
    {
     "data": {
      "text/plain": [
       "<Projected CRS: EPSG:31982>\n",
       "Name: SIRGAS 2000 / UTM zone 22S\n",
       "Axis Info [cartesian]:\n",
       "- E[east]: Easting (metre)\n",
       "- N[north]: Northing (metre)\n",
       "Area of Use:\n",
       "- name: Brazil - between 54°W and 48°W, northern and southern hemispheres, onshore and offshore. In remainder of South America - between 54°W and 48°W, southern hemisphere, onshore and offshore.\n",
       "- bounds: (-54.0, -54.18, -47.99, 7.04)\n",
       "Coordinate Operation:\n",
       "- name: UTM zone 22S\n",
       "- method: Transverse Mercator\n",
       "Datum: Sistema de Referencia Geocentrico para las AmericaS 2000\n",
       "- Ellipsoid: GRS 1980\n",
       "- Prime Meridian: Greenwich"
      ]
     },
     "execution_count": 10,
     "metadata": {},
     "output_type": "execute_result"
    }
   ],
   "source": [
    "#shape1 = gpd.read_file(r'Z:\\- GIS -\\IBGE\\vegetacao\\VG_REG_FITO_UTM_SC.shp')\n",
    "shape1 = gpd.read_file(r'D:\\GeoBase\\IBGE\\Municipios_SC_UTM.shp')\n",
    "shape1.crs"
   ]
  },
  {
   "cell_type": "code",
   "execution_count": 22,
   "id": "9cb925d8-f173-476a-987b-72d691ed75cd",
   "metadata": {},
   "outputs": [
    {
     "data": {
      "text/plain": [
       "0    POLYGON ((232290.904 7066073.670, 232301.698 7...\n",
       "Name: geometry, dtype: geometry"
      ]
     },
     "execution_count": 22,
     "metadata": {},
     "output_type": "execute_result"
    }
   ],
   "source": [
    "shape1.geometry"
   ]
  },
  {
   "cell_type": "code",
   "execution_count": 13,
   "id": "baf15cfd-d615-474f-b2a6-b7a200f3337e",
   "metadata": {},
   "outputs": [
    {
     "name": "stderr",
     "output_type": "stream",
     "text": [
      "D:\\ENS410064\\pyEnv\\Lib\\site-packages\\numpy\\core\\_methods.py:49: RuntimeWarning: overflow encountered in reduce\n",
      "  return umr_sum(a, axis, dtype, out, keepdims, initial, where)\n",
      "D:\\ENS410064\\pyEnv\\Lib\\site-packages\\numpy\\core\\_methods.py:49: RuntimeWarning: overflow encountered in reduce\n",
      "  return umr_sum(a, axis, dtype, out, keepdims, initial, where)\n",
      "D:\\ENS410064\\pyEnv\\Lib\\site-packages\\numpy\\core\\_methods.py:49: RuntimeWarning: overflow encountered in reduce\n",
      "  return umr_sum(a, axis, dtype, out, keepdims, initial, where)\n",
      "D:\\ENS410064\\pyEnv\\Lib\\site-packages\\numpy\\core\\_methods.py:49: RuntimeWarning: overflow encountered in reduce\n",
      "  return umr_sum(a, axis, dtype, out, keepdims, initial, where)\n",
      "D:\\ENS410064\\pyEnv\\Lib\\site-packages\\numpy\\core\\_methods.py:49: RuntimeWarning: overflow encountered in reduce\n",
      "  return umr_sum(a, axis, dtype, out, keepdims, initial, where)\n",
      "D:\\ENS410064\\pyEnv\\Lib\\site-packages\\numpy\\core\\_methods.py:49: RuntimeWarning: overflow encountered in reduce\n",
      "  return umr_sum(a, axis, dtype, out, keepdims, initial, where)\n",
      "D:\\ENS410064\\pyEnv\\Lib\\site-packages\\numpy\\core\\_methods.py:49: RuntimeWarning: overflow encountered in reduce\n",
      "  return umr_sum(a, axis, dtype, out, keepdims, initial, where)\n",
      "D:\\ENS410064\\pyEnv\\Lib\\site-packages\\numpy\\core\\_methods.py:49: RuntimeWarning: overflow encountered in reduce\n",
      "  return umr_sum(a, axis, dtype, out, keepdims, initial, where)\n",
      "D:\\ENS410064\\pyEnv\\Lib\\site-packages\\numpy\\core\\_methods.py:49: RuntimeWarning: overflow encountered in reduce\n",
      "  return umr_sum(a, axis, dtype, out, keepdims, initial, where)\n",
      "D:\\ENS410064\\pyEnv\\Lib\\site-packages\\numpy\\core\\_methods.py:49: RuntimeWarning: overflow encountered in reduce\n",
      "  return umr_sum(a, axis, dtype, out, keepdims, initial, where)\n",
      "D:\\ENS410064\\pyEnv\\Lib\\site-packages\\numpy\\core\\_methods.py:49: RuntimeWarning: overflow encountered in reduce\n",
      "  return umr_sum(a, axis, dtype, out, keepdims, initial, where)\n",
      "D:\\ENS410064\\pyEnv\\Lib\\site-packages\\numpy\\core\\_methods.py:49: RuntimeWarning: overflow encountered in reduce\n",
      "  return umr_sum(a, axis, dtype, out, keepdims, initial, where)\n",
      "D:\\ENS410064\\pyEnv\\Lib\\site-packages\\numpy\\core\\_methods.py:49: RuntimeWarning: overflow encountered in reduce\n",
      "  return umr_sum(a, axis, dtype, out, keepdims, initial, where)\n",
      "D:\\ENS410064\\pyEnv\\Lib\\site-packages\\numpy\\core\\_methods.py:49: RuntimeWarning: overflow encountered in reduce\n",
      "  return umr_sum(a, axis, dtype, out, keepdims, initial, where)\n",
      "D:\\ENS410064\\pyEnv\\Lib\\site-packages\\numpy\\core\\_methods.py:49: RuntimeWarning: overflow encountered in reduce\n",
      "  return umr_sum(a, axis, dtype, out, keepdims, initial, where)\n",
      "D:\\ENS410064\\pyEnv\\Lib\\site-packages\\numpy\\core\\_methods.py:49: RuntimeWarning: overflow encountered in reduce\n",
      "  return umr_sum(a, axis, dtype, out, keepdims, initial, where)\n",
      "D:\\ENS410064\\pyEnv\\Lib\\site-packages\\numpy\\core\\_methods.py:49: RuntimeWarning: overflow encountered in reduce\n",
      "  return umr_sum(a, axis, dtype, out, keepdims, initial, where)\n",
      "D:\\ENS410064\\pyEnv\\Lib\\site-packages\\numpy\\core\\_methods.py:49: RuntimeWarning: overflow encountered in reduce\n",
      "  return umr_sum(a, axis, dtype, out, keepdims, initial, where)\n",
      "D:\\ENS410064\\pyEnv\\Lib\\site-packages\\numpy\\core\\_methods.py:49: RuntimeWarning: overflow encountered in reduce\n",
      "  return umr_sum(a, axis, dtype, out, keepdims, initial, where)\n",
      "D:\\ENS410064\\pyEnv\\Lib\\site-packages\\numpy\\core\\_methods.py:49: RuntimeWarning: overflow encountered in reduce\n",
      "  return umr_sum(a, axis, dtype, out, keepdims, initial, where)\n",
      "D:\\ENS410064\\pyEnv\\Lib\\site-packages\\numpy\\core\\_methods.py:49: RuntimeWarning: overflow encountered in reduce\n",
      "  return umr_sum(a, axis, dtype, out, keepdims, initial, where)\n",
      "D:\\ENS410064\\pyEnv\\Lib\\site-packages\\numpy\\core\\_methods.py:49: RuntimeWarning: overflow encountered in reduce\n",
      "  return umr_sum(a, axis, dtype, out, keepdims, initial, where)\n",
      "D:\\ENS410064\\pyEnv\\Lib\\site-packages\\numpy\\core\\_methods.py:49: RuntimeWarning: overflow encountered in reduce\n",
      "  return umr_sum(a, axis, dtype, out, keepdims, initial, where)\n",
      "C:\\Users\\55489\\AppData\\Local\\Temp\\ipykernel_14984\\374220902.py:8: UserWarning: Column names longer than 10 characters will be truncated when saved to ESRI Shapefile.\n",
      "  gdf2.to_file(r'D:\\ENS410064\\Dados\\atividade03.shp')\n"
     ]
    }
   ],
   "source": [
    "with srtm as src:\n",
    "    affine = src.transform\n",
    "    array = src.read(1)\n",
    "    df_zonal_stats = pd.DataFrame(zonal_stats(shape1, array, affine=affine, stats=\"count min mean max majority range percentile_10 percentile_90\"))\n",
    "\n",
    "# adding statistics back to original GeoDataFrame\n",
    "gdf2 = pd.concat([shape1, df_zonal_stats], axis=1) \n",
    "gdf2.to_file(r'D:\\ENS410064\\Dados\\atividade03.shp')  "
   ]
  },
  {
   "cell_type": "markdown",
   "id": "932bd8e3-9f8a-46f2-ba61-dc724f6f8dee",
   "metadata": {},
   "source": [
    "If you want to retain the geometries and properties of the input features, you can output a list of geojson features using geojson_out. The features contain the zonal statistics as additional properties:\n",
    "\n",
    "https://pythonhosted.org/rasterstats/manual.html#zonal-statistics"
   ]
  },
  {
   "cell_type": "code",
   "execution_count": null,
   "id": "998be0b5-d02a-45e3-84cf-491662e572b2",
   "metadata": {},
   "outputs": [],
   "source": []
  }
 ],
 "metadata": {
  "kernelspec": {
   "display_name": "Python 3 (ipykernel)",
   "language": "python",
   "name": "python3"
  },
  "language_info": {
   "codemirror_mode": {
    "name": "ipython",
    "version": 3
   },
   "file_extension": ".py",
   "mimetype": "text/x-python",
   "name": "python",
   "nbconvert_exporter": "python",
   "pygments_lexer": "ipython3",
   "version": "3.11.5"
  }
 },
 "nbformat": 4,
 "nbformat_minor": 5
}
