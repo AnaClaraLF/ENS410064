{
 "cells": [
  {
   "cell_type": "code",
   "execution_count": 7,
   "id": "f680526f-6216-44cc-887d-8d9889d4f9c6",
   "metadata": {
    "scrolled": true
   },
   "outputs": [],
   "source": [
    "import folium as fl\n",
    "import geopandas as gpd\n",
    "import matplotlib.pyplot as plt\n",
    "import rasterio\n",
    "\n",
    "# fazer mapa das estacoes fluv"
   ]
  },
  {
   "cell_type": "code",
   "execution_count": null,
   "id": "ff0dfb8d-132f-4539-bcd1-8eeb79fb8e23",
   "metadata": {
    "scrolled": true
   },
   "outputs": [],
   "source": [
    "# load metadata from ANA\n",
    "#efluv = 'D:/ENS410064/Dados/brutos/ANA/metadata_ANA-flow_2023-10-03.txt' \n",
    "# get lat lon from used stations \n",
    "\n",
    "br = gpd.read_file(r'Z:\\- GIS -\\IBGE\\SC_Municipios_2020\\SC_Municipios_2020.shp')\n",
    "#D:\\GeoBase\\IBGE\\BR_Municipios_2020')\n",
    "fig,ax = plt.subplots()\n",
    "#br.plot(ax=ax)\n",
    "\n",
    "br[br['SIGLA_UF']=='SC'].explore()\n",
    "br[br['SIGLA_UF']=='SC'].explore('AREA_KM2')"
   ]
  },
  {
   "cell_type": "code",
   "execution_count": 8,
   "id": "fe881d66-1fa7-4649-aad0-d047d2a801c7",
   "metadata": {},
   "outputs": [],
   "source": [
    "import rasterio\n",
    "import rasterio.features\n",
    "import rasterio.warp"
   ]
  },
  {
   "cell_type": "code",
   "execution_count": 10,
   "id": "bdb6c643-625a-4638-91d0-ddc0adc8f1c6",
   "metadata": {},
   "outputs": [
    {
     "data": {
      "text/plain": [
       "6681"
      ]
     },
     "execution_count": 10,
     "metadata": {},
     "output_type": "execute_result"
    }
   ],
   "source": [
    "srtm = rasterio.open(r'Z:\\- GIS -\\SRTM\\SRTM_SC_UTM.tif')\n",
    "srtm.width"
   ]
  },
  {
   "cell_type": "code",
   "execution_count": 11,
   "id": "41e7bfec-e43c-48ad-9bbe-51968e6fd339",
   "metadata": {},
   "outputs": [
    {
     "data": {
      "text/plain": [
       "4114"
      ]
     },
     "execution_count": 11,
     "metadata": {},
     "output_type": "execute_result"
    }
   ],
   "source": [
    "srtm.height"
   ]
  },
  {
   "cell_type": "code",
   "execution_count": 13,
   "id": "db8b317c-2539-4669-8855-6ce0b0b3ad80",
   "metadata": {},
   "outputs": [
    {
     "data": {
      "text/plain": [
       "{1: 'float32'}"
      ]
     },
     "execution_count": 13,
     "metadata": {},
     "output_type": "execute_result"
    }
   ],
   "source": [
    "{i: dtype for i, dtype in zip(srtm.indexes, srtm.dtypes)}"
   ]
  },
  {
   "cell_type": "code",
   "execution_count": 14,
   "id": "b601d423-cb43-4004-bf78-3c8d3b237da4",
   "metadata": {},
   "outputs": [
    {
     "data": {
      "text/plain": [
       "BoundingBox(left=215894.1758, bottom=6749106.6746, right=764486.2397, top=7129160.9218)"
      ]
     },
     "execution_count": 14,
     "metadata": {},
     "output_type": "execute_result"
    }
   ],
   "source": [
    "srtm.bounds"
   ]
  },
  {
   "cell_type": "code",
   "execution_count": 16,
   "id": "8c61f1d9-32f5-4215-9cd6-fd6b09aa3f16",
   "metadata": {},
   "outputs": [
    {
     "data": {
      "text/plain": [
       "CRS.from_epsg(31982)"
      ]
     },
     "execution_count": 16,
     "metadata": {},
     "output_type": "execute_result"
    }
   ],
   "source": [
    "srtm.crs"
   ]
  },
  {
   "cell_type": "markdown",
   "id": "9a07c65d-7efc-45ad-ae57-5115a2bb554e",
   "metadata": {},
   "source": [
    "EPSG:31982 - SIRGAS 2000 / UTM zone 22S"
   ]
  },
  {
   "cell_type": "code",
   "execution_count": 18,
   "id": "59bc78be-f749-403a-ac4d-945e32598ab6",
   "metadata": {},
   "outputs": [
    {
     "data": {
      "text/plain": [
       "(1,)"
      ]
     },
     "execution_count": 18,
     "metadata": {},
     "output_type": "execute_result"
    }
   ],
   "source": [
    "srtm.indexes"
   ]
  },
  {
   "cell_type": "code",
   "execution_count": 19,
   "id": "fd3356c6-dd21-4c61-8f6d-47b66bb9ed2c",
   "metadata": {},
   "outputs": [
    {
     "data": {
      "text/plain": [
       "array([[0., 0., 0., ..., 0., 0., 0.],\n",
       "       [0., 0., 0., ..., 0., 0., 0.],\n",
       "       [0., 0., 0., ..., 0., 0., 0.],\n",
       "       ...,\n",
       "       [0., 0., 0., ..., 0., 0., 0.],\n",
       "       [0., 0., 0., ..., 0., 0., 0.],\n",
       "       [0., 0., 0., ..., 0., 0., 0.]], dtype=float32)"
      ]
     },
     "execution_count": 19,
     "metadata": {},
     "output_type": "execute_result"
    }
   ],
   "source": [
    "band1 = srtm.read(1)\n",
    "band1"
   ]
  },
  {
   "cell_type": "code",
   "execution_count": null,
   "id": "549dcb5a-98c0-4ab6-849d-a69e01df33d2",
   "metadata": {},
   "outputs": [],
   "source": []
  },
  {
   "cell_type": "code",
   "execution_count": null,
   "id": "0f52ce50-3b39-428c-8e50-a8983a628afa",
   "metadata": {},
   "outputs": [],
   "source": []
  },
  {
   "cell_type": "code",
   "execution_count": null,
   "id": "ca40b8bf-0377-4502-9cec-4abebec28cba",
   "metadata": {},
   "outputs": [],
   "source": []
  },
  {
   "cell_type": "code",
   "execution_count": null,
   "id": "fa119453-4af2-4bd8-916d-ddfd89cb03aa",
   "metadata": {},
   "outputs": [],
   "source": [
    "with srtm as dataset:\n",
    "\n",
    "    # Read the dataset's valid data mask as a ndarray.\n",
    "    mask = dataset.dataset_mask()\n",
    "\n",
    "    # Extract feature shapes and values from the array.\n",
    "    for geom, val in rasterio.features.shapes(\n",
    "            mask, transform=dataset.transform):\n",
    "\n",
    "        # Transform shapes from the dataset's own coordinate\n",
    "        # reference system to CRS84 (EPSG:4326).\n",
    "        geom = rasterio.warp.transform_geom(\n",
    "            dataset.crs, 'EPSG:4326', geom, precision=6)\n",
    "\n",
    "        # Print GeoJSON shapes to stdout.\n",
    "        print(geom)\n"
   ]
  },
  {
   "cell_type": "code",
   "execution_count": null,
   "id": "5628c133-ae46-43b3-9d77-980c52377e7d",
   "metadata": {},
   "outputs": [],
   "source": []
  }
 ],
 "metadata": {
  "kernelspec": {
   "display_name": "Python 3 (ipykernel)",
   "language": "python",
   "name": "python3"
  },
  "language_info": {
   "codemirror_mode": {
    "name": "ipython",
    "version": 3
   },
   "file_extension": ".py",
   "mimetype": "text/x-python",
   "name": "python",
   "nbconvert_exporter": "python",
   "pygments_lexer": "ipython3",
   "version": "3.11.5"
  }
 },
 "nbformat": 4,
 "nbformat_minor": 5
}
