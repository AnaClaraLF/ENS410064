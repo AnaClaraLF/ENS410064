{
 "cells": [
  {
   "cell_type": "code",
   "execution_count": 5,
   "id": "f680526f-6216-44cc-887d-8d9889d4f9c6",
   "metadata": {},
   "outputs": [],
   "source": [
    "import folium as fl\n",
    "# fazer mapa das estacoes fluv\n",
    "\n",
    "# load metadata from ANA\n",
    "efluv = 'D:/ENS410064/Dados/brutos/ANA/metadata_ANA-flow_2023-10-03.txt' \n",
    "# get lat lon from used stations \n",
    "\n",
    "mapa = fl.Map(location = [])\n",
    "#mapa"
   ]
  },
  {
   "cell_type": "code",
   "execution_count": null,
   "id": "ff0dfb8d-132f-4539-bcd1-8eeb79fb8e23",
   "metadata": {},
   "outputs": [],
   "source": []
  }
 ],
 "metadata": {
  "kernelspec": {
   "display_name": "Python 3 (ipykernel)",
   "language": "python",
   "name": "python3"
  },
  "language_info": {
   "codemirror_mode": {
    "name": "ipython",
    "version": 3
   },
   "file_extension": ".py",
   "mimetype": "text/x-python",
   "name": "python",
   "nbconvert_exporter": "python",
   "pygments_lexer": "ipython3",
   "version": "3.11.5"
  }
 },
 "nbformat": 4,
 "nbformat_minor": 5
}
