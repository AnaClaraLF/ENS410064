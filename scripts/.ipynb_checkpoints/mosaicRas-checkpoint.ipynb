{
 "cells": [
  {
   "cell_type": "markdown",
   "id": "c09d2a05-dcec-455e-b083-b43a2052ad29",
   "metadata": {},
   "source": [
    "## Mosaicar raster\n",
    "\n",
    "rotina para fazer mosaico de raster\n",
    "SRTM SC\n"
   ]
  },
  {
   "cell_type": "code",
   "execution_count": null,
   "id": "07168bdc-331d-4a59-868f-4cd6feef2b9d",
   "metadata": {},
   "outputs": [],
   "source": [
    "import rasterio\n",
    "import rasterio.features\n",
    "from rasterio.merge import merge\n",
    "from rasterio.plot import show\n",
    "import glob\n",
    "import os \n"
   ]
  },
  {
   "cell_type": "code",
   "execution_count": null,
   "id": "65c50a97-362b-4887-a153-42ab10055c02",
   "metadata": {},
   "outputs": [],
   "source": [
    "# File and folder paths\n",
    "dirpath = r'D:\\GeoBase\\EPAGRI\\SRTM'\n",
    "out_fp = r\"D:\\GeoBase\\EPAGRI\\SRTM\\SRTM_SC.tif\"\n",
    "\n",
    "# Make a search criteria to select the DEM files\n",
    "search_criteria = \"mde*.tif\"\n",
    "q = os.path.join(dirpath, search_criteria)\n",
    "print(q)\n",
    "dem_fps = glob.glob(q)\n"
   ]
  },
  {
   "cell_type": "code",
   "execution_count": null,
   "id": "b13b1553-b347-4bde-9eef-ee0d89868a14",
   "metadata": {},
   "outputs": [],
   "source": [
    "src_files_to_mosaic = []\n",
    "for fp in dem_fps:\n",
    "    src = rasterio.open(fp)\n",
    "    src_files_to_mosaic.append(src)\n",
    "\n",
    "mosaic, out_trans = merge(src_files_to_mosaic)\n",
    "show(mosaic, cmap='terrain')"
   ]
  },
  {
   "cell_type": "code",
   "execution_count": null,
   "id": "7ec12351-2756-4e0c-aede-6d1bfc164c99",
   "metadata": {},
   "outputs": [],
   "source": [
    "out_meta = src.meta.copy()\n",
    "out_meta.update({\"driver\": \"GTiff\",\n",
    "                  \"height\": mosaic.shape[1],\n",
    "                  \"width\": mosaic.shape[2],\n",
    "                 \"transform\": out_trans,\n",
    "                  \"crs\": \"EPSG:31982\"\n",
    "                  }\n",
    "                 )"
   ]
  },
  {
   "cell_type": "code",
   "execution_count": null,
   "id": "e4c13f27-e129-40c8-89a6-b198a5460bf8",
   "metadata": {},
   "outputs": [],
   "source": [
    "with rasterio.open(out_fp, \"w\", **out_meta) as dest:\n",
    "     dest.write(mosaic)"
   ]
  }
 ],
 "metadata": {
  "kernelspec": {
   "display_name": "Python 3 (ipykernel)",
   "language": "python",
   "name": "python3"
  },
  "language_info": {
   "codemirror_mode": {
    "name": "ipython",
    "version": 3
   },
   "file_extension": ".py",
   "mimetype": "text/x-python",
   "name": "python",
   "nbconvert_exporter": "python",
   "pygments_lexer": "ipython3",
   "version": "3.11.5"
  }
 },
 "nbformat": 4,
 "nbformat_minor": 5
}
