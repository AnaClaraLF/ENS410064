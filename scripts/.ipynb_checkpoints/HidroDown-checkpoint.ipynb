{
 "cells": [
  {
   "cell_type": "code",
   "execution_count": 2,
   "id": "adfd10da-dfeb-460c-b85d-5f62d440492b",
   "metadata": {},
   "outputs": [
    {
     "name": "stdout",
     "output_type": "stream",
     "text": [
      "The file was saved in: D:\\PPGEA\\AulaPy\\ANA/metadata_ANA-flow_2023-10-04.txt\n"
     ]
    },
    {
     "ename": "NameError",
     "evalue": "name 'metadata_ana_flow' is not defined",
     "output_type": "error",
     "traceback": [
      "\u001b[1;31m---------------------------------------------------------------------------\u001b[0m",
      "\u001b[1;31mNameError\u001b[0m                                 Traceback (most recent call last)",
      "Cell \u001b[1;32mIn[2], line 13\u001b[0m\n\u001b[0;32m     10\u001b[0m \u001b[38;5;28mprint\u001b[39m(\u001b[38;5;124m'\u001b[39m\u001b[38;5;124mThe file was saved in: \u001b[39m\u001b[38;5;132;01m{}\u001b[39;00m\u001b[38;5;124m'\u001b[39m\u001b[38;5;241m.\u001b[39mformat(my_file))\n\u001b[0;32m     12\u001b[0m \u001b[38;5;66;03m# impressão do atributo .__doc__:\u001b[39;00m\n\u001b[1;32m---> 13\u001b[0m \u001b[38;5;28mprint\u001b[39m(\u001b[43mmetadata_ana_flow\u001b[49m\u001b[38;5;241m.\u001b[39m\u001b[38;5;18m__doc__\u001b[39m)\n",
      "\u001b[1;31mNameError\u001b[0m: name 'metadata_ana_flow' is not defined"
     ]
    }
   ],
   "source": [
    "import pandas as pd\n",
    "import numpy as np  # if used\n",
    "import matplotlib.pyplot as plt  # if used\n",
    "import scipy  # if used\n",
    "from gespla import download  # this imports the download module\n",
    "\n",
    "# call the module functions:\n",
    "my_file = download.metadata_ana_flow(folder='D:\\PPGEA\\AulaPy\\ANA')\n",
    "# print on screen where the file was saved:\n",
    "print('The file was saved in: {}'.format(my_file))\n",
    "\n",
    "# impressão do atributo .__doc__:\n",
    "print(metadata_ana_flow.__doc__)"
   ]
  },
  {
   "cell_type": "code",
   "execution_count": 8,
   "id": "ce2f10f2-9c0e-4bd5-9f28-7d8e62cb65f2",
   "metadata": {},
   "outputs": [
    {
     "name": "stdout",
     "output_type": "stream",
     "text": [
      "Help on class ANA in module hydrobr.get_data:\n",
      "\n",
      "class ANA(builtins.object)\n",
      " |  It provides a connection with the Brazilian National Water Agency (Agência Nacional de Águas - ANA) database\n",
      " |  \n",
      " |  Static methods defined here:\n",
      " |  \n",
      " |  flow_data(list_station, only_consisted=False)\n",
      " |      Get the flow station data series from a list of stations code of the Brazilian National Water Agency\n",
      " |      (ANA) database.\n",
      " |      \n",
      " |      Parameters\n",
      " |      ----------\n",
      " |      list_station : list of strings\n",
      " |          A list of with the stations code as strings.\n",
      " |      only_consisted : boolean, default False\n",
      " |          If True, returns only the data classified as consistent by the provider.\n",
      " |      \n",
      " |      Returns\n",
      " |      -------\n",
      " |      data_stations : pandas DataFrame\n",
      " |          The data os each station as a column in a pandas DataFrame\n",
      " |  \n",
      " |  list_flow_stations(state='', city='', source='ANAF')\n",
      " |      Searches for flow/stage stations registered at the Brazilian National Agency of Water inventory.\n",
      " |      \n",
      " |      Parameters\n",
      " |      ----------\n",
      " |      state : string\n",
      " |          Brazilian state name where the stations are located (e.g., Rio de Janeiro)\n",
      " |      city : string\n",
      " |          Brazilian city name where the stations are located (e.g., Rio de Itaperuna)\n",
      " |      source: string, default 'ANAF'\n",
      " |          The source to look for the data. 'ANA' to get the list of stations from the Brazilian National Water Agency\n",
      " |          (ANA) database, or 'ANAF' to get the filtered list of stations that contain only the stations from ANA\n",
      " |          with registered data.\n",
      " |          More information about ANAF: https://doi.org/10.5281/zenodo.3755065\n",
      " |      \n",
      " |      Returns\n",
      " |      -------\n",
      " |      list_stations : pandas DataFrame\n",
      " |          The selected list of stations as a pandas DataFrame\n",
      " |  \n",
      " |  list_prec_stations(state='', city='', source='ANAF')\n",
      " |      Searches for precipitation stations registered at the Brazilian National Agency of Water (ANA)\n",
      " |      \n",
      " |      Parameters\n",
      " |      ----------\n",
      " |      state : string\n",
      " |          Brazilian state name where the stations are located (e.g., Rio de Janeiro)\n",
      " |      city : string\n",
      " |          Brazilian city name where the stations are located (e.g., Rio de Itaperuna)\n",
      " |      source: string, default 'ANA'\n",
      " |          The source to look for the data. 'ANA' to get the list of stations from the Brazilian National Water Agency\n",
      " |          (ANA) database, or 'ANAF' to get the filtered list of stations that contain only the stations from ANA\n",
      " |          with registered data.\n",
      " |          More information about ANAF: https://doi.org/10.5281/zenodo.3755065\n",
      " |      \n",
      " |      Returns\n",
      " |      -------\n",
      " |      list_stations : pandas DataFrame\n",
      " |          The selected list of stations as a pandas DataFrame\n",
      " |  \n",
      " |  prec_data(list_station, only_consisted=False)\n",
      " |      Get the precipitation station data series from a list of stations code.\n",
      " |      \n",
      " |      Parameters\n",
      " |      ----------\n",
      " |      list_station : list of strings\n",
      " |          A list of with the stations code as strings.\n",
      " |      only_consisted : boolean, default False\n",
      " |          If True, returns only the data classified as consistent by the provider.\n",
      " |      \n",
      " |      Returns\n",
      " |      -------\n",
      " |      data_stations : pandas DataFrame\n",
      " |          The data os each station as a column in a pandas DataFrame\n",
      " |  \n",
      " |  stage_data(list_station, only_consisted=False)\n",
      " |      Get the stage station data series from a list of stations code of the Brazilian National Water Agency\n",
      " |      (ANA) database.\n",
      " |      \n",
      " |      Parameters\n",
      " |      ----------\n",
      " |      list_station : list of strings\n",
      " |          A list of with the stations code as strings.\n",
      " |      only_consisted : boolean, default False\n",
      " |          If True, returns only the data classified as consistent by the provider.\n",
      " |      \n",
      " |      Returns\n",
      " |      -------\n",
      " |      data_stations : pandas DataFrame\n",
      " |          The data os each station as a column in a pandas DataFrame\n",
      " |  \n",
      " |  ----------------------------------------------------------------------\n",
      " |  Data descriptors defined here:\n",
      " |  \n",
      " |  __dict__\n",
      " |      dictionary for instance variables (if defined)\n",
      " |  \n",
      " |  __weakref__\n",
      " |      list of weak references to the object (if defined)\n",
      "\n"
     ]
    }
   ],
   "source": [
    "import hydrobr\n",
    "help(hydrobr.get_data.ANA)\n"
   ]
  },
  {
   "cell_type": "code",
   "execution_count": 13,
   "id": "14e69365-df37-4c7d-bd7e-33124c58cf24",
   "metadata": {},
   "outputs": [
    {
     "name": "stderr",
     "output_type": "stream",
     "text": [
      "100%|████████████████████████████████████████████████████████████████████████████████████| 8/8 [05:36<00:00, 42.10s/it]\n"
     ]
    },
    {
     "ename": "ValueError",
     "evalue": "No objects to concatenate",
     "output_type": "error",
     "traceback": [
      "\u001b[1;31m---------------------------------------------------------------------------\u001b[0m",
      "\u001b[1;31mValueError\u001b[0m                                Traceback (most recent call last)",
      "Cell \u001b[1;32mIn[13], line 1\u001b[0m\n\u001b[1;32m----> 1\u001b[0m \u001b[43mhydrobr\u001b[49m\u001b[38;5;241;43m.\u001b[39;49m\u001b[43mget_data\u001b[49m\u001b[38;5;241;43m.\u001b[39;49m\u001b[43mANA\u001b[49m\u001b[38;5;241;43m.\u001b[39;49m\u001b[43mflow_data\u001b[49m\u001b[43m(\u001b[49m\u001b[38;5;124;43m'\u001b[39;49m\u001b[38;5;124;43m65035000\u001b[39;49m\u001b[38;5;124;43m'\u001b[39;49m\u001b[43m,\u001b[49m\u001b[43m \u001b[49m\u001b[43monly_consisted\u001b[49m\u001b[38;5;241;43m=\u001b[39;49m\u001b[38;5;28;43;01mFalse\u001b[39;49;00m\u001b[43m)\u001b[49m\n",
      "File \u001b[1;32mD:\\ENS410064\\pyEnv\\Lib\\site-packages\\hydrobr\\get_data.py:259\u001b[0m, in \u001b[0;36mANA.flow_data\u001b[1;34m(list_station, only_consisted)\u001b[0m\n\u001b[0;32m    241\u001b[0m \u001b[38;5;129m@staticmethod\u001b[39m\n\u001b[0;32m    242\u001b[0m \u001b[38;5;28;01mdef\u001b[39;00m \u001b[38;5;21mflow_data\u001b[39m(list_station, only_consisted\u001b[38;5;241m=\u001b[39m\u001b[38;5;28;01mFalse\u001b[39;00m):\n\u001b[0;32m    243\u001b[0m \u001b[38;5;250m    \u001b[39m\u001b[38;5;124;03m\"\"\"\u001b[39;00m\n\u001b[0;32m    244\u001b[0m \u001b[38;5;124;03m    Get the flow station data series from a list of stations code of the Brazilian National Water Agency\u001b[39;00m\n\u001b[0;32m    245\u001b[0m \u001b[38;5;124;03m    (ANA) database.\u001b[39;00m\n\u001b[1;32m   (...)\u001b[0m\n\u001b[0;32m    257\u001b[0m \u001b[38;5;124;03m        The data os each station as a column in a pandas DataFrame\u001b[39;00m\n\u001b[0;32m    258\u001b[0m \u001b[38;5;124;03m    \"\"\"\u001b[39;00m\n\u001b[1;32m--> 259\u001b[0m     data_stations \u001b[38;5;241m=\u001b[39m \u001b[43mANA\u001b[49m\u001b[38;5;241;43m.\u001b[39;49m\u001b[43m__data_ana\u001b[49m\u001b[43m(\u001b[49m\u001b[43mlist_station\u001b[49m\u001b[43m,\u001b[49m\u001b[43m \u001b[49m\u001b[38;5;124;43m'\u001b[39;49m\u001b[38;5;124;43m3\u001b[39;49m\u001b[38;5;124;43m'\u001b[39;49m\u001b[43m,\u001b[49m\u001b[43m \u001b[49m\u001b[43monly_consisted\u001b[49m\u001b[38;5;241;43m=\u001b[39;49m\u001b[43monly_consisted\u001b[49m\u001b[43m)\u001b[49m\n\u001b[0;32m    261\u001b[0m     \u001b[38;5;28;01mreturn\u001b[39;00m data_stations\n",
      "File \u001b[1;32mD:\\ENS410064\\pyEnv\\Lib\\site-packages\\hydrobr\\get_data.py:192\u001b[0m, in \u001b[0;36mANA.__data_ana\u001b[1;34m(list_station, data_type, only_consisted)\u001b[0m\n\u001b[0;32m    190\u001b[0m     series \u001b[38;5;241m=\u001b[39m series\u001b[38;5;241m.\u001b[39mreindex(date_index)\n\u001b[0;32m    191\u001b[0m     data_stations\u001b[38;5;241m.\u001b[39mappend(series)\n\u001b[1;32m--> 192\u001b[0m data_stations \u001b[38;5;241m=\u001b[39m \u001b[43mpd\u001b[49m\u001b[38;5;241;43m.\u001b[39;49m\u001b[43mconcat\u001b[49m\u001b[43m(\u001b[49m\u001b[43mdata_stations\u001b[49m\u001b[43m,\u001b[49m\u001b[43m \u001b[49m\u001b[43maxis\u001b[49m\u001b[38;5;241;43m=\u001b[39;49m\u001b[38;5;241;43m1\u001b[39;49m\u001b[43m)\u001b[49m\n\u001b[0;32m    193\u001b[0m date_index \u001b[38;5;241m=\u001b[39m pd\u001b[38;5;241m.\u001b[39mdate_range(data_stations\u001b[38;5;241m.\u001b[39mindex[\u001b[38;5;241m0\u001b[39m], data_stations\u001b[38;5;241m.\u001b[39mindex[\u001b[38;5;241m-\u001b[39m\u001b[38;5;241m1\u001b[39m], freq\u001b[38;5;241m=\u001b[39m\u001b[38;5;124m'\u001b[39m\u001b[38;5;124mD\u001b[39m\u001b[38;5;124m'\u001b[39m)\n\u001b[0;32m    194\u001b[0m data_stations \u001b[38;5;241m=\u001b[39m data_stations\u001b[38;5;241m.\u001b[39mreindex(date_index)\n",
      "File \u001b[1;32mD:\\ENS410064\\pyEnv\\Lib\\site-packages\\pandas\\core\\reshape\\concat.py:380\u001b[0m, in \u001b[0;36mconcat\u001b[1;34m(objs, axis, join, ignore_index, keys, levels, names, verify_integrity, sort, copy)\u001b[0m\n\u001b[0;32m    377\u001b[0m \u001b[38;5;28;01melif\u001b[39;00m copy \u001b[38;5;129;01mand\u001b[39;00m using_copy_on_write():\n\u001b[0;32m    378\u001b[0m     copy \u001b[38;5;241m=\u001b[39m \u001b[38;5;28;01mFalse\u001b[39;00m\n\u001b[1;32m--> 380\u001b[0m op \u001b[38;5;241m=\u001b[39m \u001b[43m_Concatenator\u001b[49m\u001b[43m(\u001b[49m\n\u001b[0;32m    381\u001b[0m \u001b[43m    \u001b[49m\u001b[43mobjs\u001b[49m\u001b[43m,\u001b[49m\n\u001b[0;32m    382\u001b[0m \u001b[43m    \u001b[49m\u001b[43maxis\u001b[49m\u001b[38;5;241;43m=\u001b[39;49m\u001b[43maxis\u001b[49m\u001b[43m,\u001b[49m\n\u001b[0;32m    383\u001b[0m \u001b[43m    \u001b[49m\u001b[43mignore_index\u001b[49m\u001b[38;5;241;43m=\u001b[39;49m\u001b[43mignore_index\u001b[49m\u001b[43m,\u001b[49m\n\u001b[0;32m    384\u001b[0m \u001b[43m    \u001b[49m\u001b[43mjoin\u001b[49m\u001b[38;5;241;43m=\u001b[39;49m\u001b[43mjoin\u001b[49m\u001b[43m,\u001b[49m\n\u001b[0;32m    385\u001b[0m \u001b[43m    \u001b[49m\u001b[43mkeys\u001b[49m\u001b[38;5;241;43m=\u001b[39;49m\u001b[43mkeys\u001b[49m\u001b[43m,\u001b[49m\n\u001b[0;32m    386\u001b[0m \u001b[43m    \u001b[49m\u001b[43mlevels\u001b[49m\u001b[38;5;241;43m=\u001b[39;49m\u001b[43mlevels\u001b[49m\u001b[43m,\u001b[49m\n\u001b[0;32m    387\u001b[0m \u001b[43m    \u001b[49m\u001b[43mnames\u001b[49m\u001b[38;5;241;43m=\u001b[39;49m\u001b[43mnames\u001b[49m\u001b[43m,\u001b[49m\n\u001b[0;32m    388\u001b[0m \u001b[43m    \u001b[49m\u001b[43mverify_integrity\u001b[49m\u001b[38;5;241;43m=\u001b[39;49m\u001b[43mverify_integrity\u001b[49m\u001b[43m,\u001b[49m\n\u001b[0;32m    389\u001b[0m \u001b[43m    \u001b[49m\u001b[43mcopy\u001b[49m\u001b[38;5;241;43m=\u001b[39;49m\u001b[43mcopy\u001b[49m\u001b[43m,\u001b[49m\n\u001b[0;32m    390\u001b[0m \u001b[43m    \u001b[49m\u001b[43msort\u001b[49m\u001b[38;5;241;43m=\u001b[39;49m\u001b[43msort\u001b[49m\u001b[43m,\u001b[49m\n\u001b[0;32m    391\u001b[0m \u001b[43m\u001b[49m\u001b[43m)\u001b[49m\n\u001b[0;32m    393\u001b[0m \u001b[38;5;28;01mreturn\u001b[39;00m op\u001b[38;5;241m.\u001b[39mget_result()\n",
      "File \u001b[1;32mD:\\ENS410064\\pyEnv\\Lib\\site-packages\\pandas\\core\\reshape\\concat.py:443\u001b[0m, in \u001b[0;36m_Concatenator.__init__\u001b[1;34m(self, objs, axis, join, keys, levels, names, ignore_index, verify_integrity, copy, sort)\u001b[0m\n\u001b[0;32m    440\u001b[0m \u001b[38;5;28mself\u001b[39m\u001b[38;5;241m.\u001b[39mverify_integrity \u001b[38;5;241m=\u001b[39m verify_integrity\n\u001b[0;32m    441\u001b[0m \u001b[38;5;28mself\u001b[39m\u001b[38;5;241m.\u001b[39mcopy \u001b[38;5;241m=\u001b[39m copy\n\u001b[1;32m--> 443\u001b[0m objs, keys \u001b[38;5;241m=\u001b[39m \u001b[38;5;28;43mself\u001b[39;49m\u001b[38;5;241;43m.\u001b[39;49m\u001b[43m_clean_keys_and_objs\u001b[49m\u001b[43m(\u001b[49m\u001b[43mobjs\u001b[49m\u001b[43m,\u001b[49m\u001b[43m \u001b[49m\u001b[43mkeys\u001b[49m\u001b[43m)\u001b[49m\n\u001b[0;32m    445\u001b[0m \u001b[38;5;66;03m# figure out what our result ndim is going to be\u001b[39;00m\n\u001b[0;32m    446\u001b[0m ndims \u001b[38;5;241m=\u001b[39m \u001b[38;5;28mself\u001b[39m\u001b[38;5;241m.\u001b[39m_get_ndims(objs)\n",
      "File \u001b[1;32mD:\\ENS410064\\pyEnv\\Lib\\site-packages\\pandas\\core\\reshape\\concat.py:505\u001b[0m, in \u001b[0;36m_Concatenator._clean_keys_and_objs\u001b[1;34m(self, objs, keys)\u001b[0m\n\u001b[0;32m    502\u001b[0m     objs_list \u001b[38;5;241m=\u001b[39m \u001b[38;5;28mlist\u001b[39m(objs)\n\u001b[0;32m    504\u001b[0m \u001b[38;5;28;01mif\u001b[39;00m \u001b[38;5;28mlen\u001b[39m(objs_list) \u001b[38;5;241m==\u001b[39m \u001b[38;5;241m0\u001b[39m:\n\u001b[1;32m--> 505\u001b[0m     \u001b[38;5;28;01mraise\u001b[39;00m \u001b[38;5;167;01mValueError\u001b[39;00m(\u001b[38;5;124m\"\u001b[39m\u001b[38;5;124mNo objects to concatenate\u001b[39m\u001b[38;5;124m\"\u001b[39m)\n\u001b[0;32m    507\u001b[0m \u001b[38;5;28;01mif\u001b[39;00m keys \u001b[38;5;129;01mis\u001b[39;00m \u001b[38;5;28;01mNone\u001b[39;00m:\n\u001b[0;32m    508\u001b[0m     objs_list \u001b[38;5;241m=\u001b[39m \u001b[38;5;28mlist\u001b[39m(com\u001b[38;5;241m.\u001b[39mnot_none(\u001b[38;5;241m*\u001b[39mobjs_list))\n",
      "\u001b[1;31mValueError\u001b[0m: No objects to concatenate"
     ]
    }
   ],
   "source": [
    "hydrobr.get_data.ANA.flow_data('65035000', only_consisted=False)"
   ]
  },
  {
   "cell_type": "code",
   "execution_count": null,
   "id": "7f8e58ce-016f-4d79-9df9-0c7d25905938",
   "metadata": {},
   "outputs": [],
   "source": []
  }
 ],
 "metadata": {
  "kernelspec": {
   "display_name": "Python 3 (ipykernel)",
   "language": "python",
   "name": "python3"
  },
  "language_info": {
   "codemirror_mode": {
    "name": "ipython",
    "version": 3
   },
   "file_extension": ".py",
   "mimetype": "text/x-python",
   "name": "python",
   "nbconvert_exporter": "python",
   "pygments_lexer": "ipython3",
   "version": "3.11.5"
  }
 },
 "nbformat": 4,
 "nbformat_minor": 5
}
