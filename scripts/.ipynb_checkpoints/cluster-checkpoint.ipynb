{
 "cells": [
  {
   "cell_type": "code",
   "execution_count": null,
   "id": "07d91364-055e-4bc8-a09f-275202bc8458",
   "metadata": {},
   "outputs": [],
   "source": []
  },
  {
   "cell_type": "markdown",
   "id": "9d6abd12-3c6d-4520-9e40-f46b7d79a60d",
   "metadata": {},
   "source": [
    "# Analise de cluster entre as diferentes estacoes\n",
    "\n",
    "todas dentro da bacia do rio iguacu para o exemplo"
   ]
  },
  {
   "cell_type": "code",
   "execution_count": null,
   "id": "be7de247-d9cd-4f88-a775-7f5c74e64b0d",
   "metadata": {},
   "outputs": [],
   "source": [
    "from sklearn import datasets\n",
    "from sklearn.cluster import KMeans\n",
    "from sklearn.decomposition import PCA\n"
   ]
  },
  {
   "cell_type": "code",
   "execution_count": null,
   "id": "f9fc6e80-1b88-472f-850f-ddc829db6b25",
   "metadata": {},
   "outputs": [],
   "source": [
    "from scipy.cluster.hierarchy import dendrogram, linkage\n",
    "from matplotlib import pyplot as plt\n",
    "\n",
    "Qdiab=Qdia.dropna()#dropnans\n",
    "Z = linkage(Qdiab, 'ward')\n",
    "plt.figure(figsize=(25, 10))\n",
    "dn = dendrogram(Z)"
   ]
  },
  {
   "cell_type": "code",
   "execution_count": null,
   "id": "16783595-f67f-4dd9-bac9-5a1bae14aa41",
   "metadata": {},
   "outputs": [],
   "source": [
    "from scipy.spatial.distance import pdist,squareform\n",
    "Qdiab=Qdia.dropna()#dropnans\n",
    "variables=[file[0:8] for file in files] # nomes das colunas conforme arquivos/estacoes\n",
    "labels=(Qdiab.index)\n",
    "row_dist = pd.DataFrame(squareform(pdist(Qdiab, metric='euclidean')), columns=variables, index=variables)\n",
    "row_dist"
   ]
  },
  {
   "cell_type": "code",
   "execution_count": null,
   "id": "a8770a93-87c5-4b8a-a978-ac3087a6ba0e",
   "metadata": {},
   "outputs": [],
   "source": [
    "from scipy.cluster.hierarchy import linkage\n",
    "\n",
    "row_clusters = linkage(pdist(Qdiab, metric='euclidean'), method='complete')\n",
    "pd.DataFrame(row_clusters, \n",
    "             columns=['row label 1', 'row label 2', 'distance', 'no. of items in clust.'],\n",
    "             index=['cluster %d' %(i+1) for i in range(row_clusters.shape[0])])\n",
    "\n"
   ]
  },
  {
   "cell_type": "code",
   "execution_count": null,
   "id": "eacef073-ed3b-4151-b627-a7d05f72d060",
   "metadata": {},
   "outputs": [],
   "source": [
    "import matplotlib.pyplot as plt\n",
    "from scipy.cluster.hierarchy import dendrogram\n",
    "\n",
    "row_dendr = dendrogram(row_clusters, labels=labels)"
   ]
  }
 ],
 "metadata": {
  "kernelspec": {
   "display_name": "Python 3 (ipykernel)",
   "language": "python",
   "name": "python3"
  },
  "language_info": {
   "codemirror_mode": {
    "name": "ipython",
    "version": 3
   },
   "file_extension": ".py",
   "mimetype": "text/x-python",
   "name": "python",
   "nbconvert_exporter": "python",
   "pygments_lexer": "ipython3",
   "version": "3.11.5"
  }
 },
 "nbformat": 4,
 "nbformat_minor": 5
}
