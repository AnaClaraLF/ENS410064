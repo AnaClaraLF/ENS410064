


# criando uma funcao
def txt_to_df(path, d_start, d_end, d_interv):

    """esta funcao abre txts de uma pasta(path), constrói um df com o periodo informado e salva o df na pasta com nome df_todos.pkl
    a data deve ser formado d_start = 1990-01-01 00:00:00
    o formato do intervalo deve ser D"""
    
    # import needed libraries
    import pandas as pd
    import os
    
    #del(allData,all,allD,dtime,dt) #deletar variavel, caso haja, como não dar aviso?
    
    # list and print files on dir
    files = os.listdir(path)
    print('estas sao as estacoes salvas na pasta:',files)
    
    # import data to variable allData
    allData = [pd.read_csv(path+file) for file in files] # ler txts e colocar na lista
        
    # make a df variable with data, to allow naming columns
    all = pd.concat(allData, axis=1) # concatenar em um df?
    
    all.columns = [file[0:8] for file in files] # nomes das colunas conforme arquivos/estacoes
        
    # make datetime vector with data interval
    dtime = pd.date_range(start=d_start, end=d_end, freq=d_interv)
    
    # assign vector do df column
    all['datetime'] = dtime
    
    # transforma em datetime
    all['datetime'] = pd.to_datetime(all['datetime'])
    
    # transform datetime to index
    all.set_index('datetime', inplace=True) # por alguma razao desconhecida só funciona se substituir a coluna e nao repetir
        
    # cria colunas mes ano dia
    all.index.year
    all['year'] = all.index.year
    all['month'] = all.index.month
    all['day'] = all.index.day
    all # print variable
    
    #save DataFrame to pickle file
    all.to_pickle('D:/ENS410064/Dados/ExAulas/'+'df_todos.pkl')
    #save to csv
    all.to_csv('D:/ENS410064/Dados/ExAulas/'+'df_todos.csv')
    print('dataframe salvo em',path)
    return all


# import needed libraries
import numpy as np
import pandas as pd
import os
import matplotlib.pyplot as plt

# path to folder with files
mpath='D:/ENS410064/Dados/DataENS/ObsFlow_SWAT/diario19902012/'
# note to date interval
dstart = '1990-01-01 00:00:00'
dend = '2012-12-31 00:00:00'
dinterv = 'D'

# list and print files on dir
files = os.listdir(mpath)
print('estas sao as estacoes salvas na pasta:',files)




# utilizar a funcao construida para fazer um df e um csv com os dados
txt_to_df(mpath,dstart,dend,dinterv)


# import needed libraries
import pandas as pd
import os
# abrir dataframe # read DataFrame from pickle file
Qdia = pd.read_pickle('D:/ENS410064/Dados/ExAulas/df_aula.pkl')
Qdia # print df



Qdia.iloc[0:10,27:32] # print one station


# plotar vazao diaria
plt.rcParams['figure.figsize'] = [12, 20]
fig0, ax0 = plt.subplots(nrows=7, ncols=4) # 28 subplots, one each station
ax0= ax0.flatten() # nao importa a ordem dos subplots

i = 0 # inicia contador das figs
for column in Qdia:    
    ax0[i].plot(Qdia[column])
    ax0[i].title.set_text(column)
    ax0[i].set_ylim(bottom=0)
    i=i+1


#fazer medias
Q_monthly = Qdia.resample('M').mean() # serie de vazoes medias mensais

# plotar Q mensais
plt.rcParams['figure.figsize'] = [12, 20]
fig1, ax1 = plt.subplots(nrows=7, ncols=4) # 28 subplots, one each station
ax1= ax1.flatten() # nao importa a ordem dos subplots

i = 0 # inicia contador das figs
for column in Q_monthly:    
    ax1[i].plot(Q_monthly[column])
    ax1[i].title.set_text(column)
    ax1[i].set_ylim(bottom=0)
    i=i+1


# medias mensais
Q_month = Q_monthly.groupby(Q_monthly.month).mean() # medias mensais
Q_month.drop(['year', 'day'], axis=1, inplace=True) # drop year day columns
Q_month


# plotar medias mensais
plt.rcParams['figure.figsize'] = [12, 20]
fig2, ax2 = plt.subplots(nrows=7, ncols=4) # 28 subplots, one each station
ax2= ax2.flatten() # nao importa a ordem dos subplots

i = 0 # inicia contador das figs
for column in Q_month:    
    ax2[i].plot(Q_month[column])
    ax2[i].title.set_text(column)
    ax2[i].set_ylim(bottom=0)
    i=i+1



# maximas diarias anuais
Qdia_max = Qdia.dropna().resample('Y').max() # serie de vazoes maximas diarias anuais
Qdia_max.drop(['year', 'month', 'day'], axis=1, inplace=True) # drop year day month columns



# plotar maximas diarias anuais
plt.rcParams['figure.figsize'] = [12, 20]
fig3, ax3 = plt.subplots(nrows=7, ncols=4) # 28 subplots, one each station
ax3= ax3.flatten() # nao importa a ordem dos subplots

i = 0 # inicia contador das figs
for column in Qdia_max:
    #Qdia_max[column].sort_values() # sort values inside column
    ax3[i].plot(Qdia_max[column])
    ax3[i].title.set_text(column)
    i=i+1








# make a dict with keys being station names and droping nans from each series, therefore, iter
Qp_monthly = {Q_monthly[column].name: [y for y in Q_monthly[column] if not pd.isna(y)] for column in Q_monthly}
# drop year month day columns
[Qp_monthly.pop(x) for x in ['year', 'month', 'day']]
#type(Qp_monthly)
# order keys? how to? what for?



# plot
plt.rcParams['figure.figsize'] = [12, 20]
fig4, ax4 = plt.subplots(nrows=7, ncols=4) # 28 subplots, one each station
ax4 = ax4.flatten() # nao importa a ordem dos subplots

i = 0 # inicia contador das figs
for estacoes in Qp_monthly.keys():
    Qp_monthly[estacoes].sort() # sort values inside keys
    ax4[i].plot(np.linspace(100, 0, len(Qp_monthly[estacoes])),Qp_monthly[estacoes])
    ax4[i].set_yscale('log')
    ax4[i].title.set_text(estacoes)
    i=i+1





# make a dict with keys being station names and droping nans from each series, therefore, iter
Qpdia = {Qdia[column].name: [y for y in Qdia[column] if not pd.isna(y)] for column in Qdia}
# drop year month day columns
[Qpdia.pop(x) for x in ['year', 'month', 'day']] # how to ignore output?
#type(Qp_monthly)
# order keys? how to? what for?


# plot
plt.rcParams['figure.figsize'] = [12, 20]
fig5, ax5 = plt.subplots(nrows=7, ncols=4) # 28 subplots, one each station
ax5 = ax5.flatten() # nao importa a ordem dos subplots

i = 0 # inicia contador das figs
for estacoes in Qpdia.keys():
    Qpdia[estacoes].sort() # sort values inside keys
    ax5[i].plot(np.linspace(100, 0, len(Qpdia[estacoes])),Qpdia[estacoes])
    ax5[i].set_yscale('log')
    ax5[i].title.set_text(estacoes)
    i=i+1





# calcular Q7,10
Q7med = Qdia.rolling(7).mean() # media movel de 7 dias na serie inteira
Q7anual = Q7med.resample('Y').min() # serie de minimas anuais de médias de sete dias
# drop year day month columns
Q7med.drop(['year', 'month', 'day'], axis=1, inplace=True)
Q7anual.drop(['year', 'month', 'day'], axis=1, inplace=True)


# find best distribution fit for Q7 of each station

# Import library
from distfit import distfit

dfit = distfit(todf=True)        # Initialize 

# Determine best-fitting probability distribution for data
# loop for each station
Q7_10 = [] # first, create empty list to store results (dict) for each station

for column in Q7anual: 
    q7t = Q7anual[column] # reassign to temporary variable
    # first, order values and drop NaNs  
    q7t = q7t.dropna() # drop NaNs
    q7t.sort_values(ascending=True, inplace=True) # sort ascending    
    Q7_10.append(dfit.fit_transform(q7t).copy()) # assign result from distfit to new var
    del(q7t) # clear temp var



# printar o resultado de uma estacao determinada
print('A distribuicao que melhor ajustou a estacao de codigo '+Q7anual.columns[27]+' foi: '+ Q7_10[27]["model"]["name"])


Q7_10[27]


dfit.plot_summary()


Q7anual.iloc[:,27]


dfit.plot(chart='pdf')
