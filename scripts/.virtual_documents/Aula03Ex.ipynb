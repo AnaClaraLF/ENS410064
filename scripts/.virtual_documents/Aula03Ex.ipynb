


# import needed libraries
import numpy as np
import pandas as pd
import os
import matplotlib.pyplot as plt

# path to folder with files
path='D:/ENS410064/Dados/DataENS/ObsFlow_SWAT/diario19902012/'
# note to date interval
d_start = '1990-01-01 00:00:00'
d_end = '2012-12-31 00:00:00'
d_interv = 'D'

# list and print files on dir
files = os.listdir(path)
print('estas sao as estacoes salvas na pasta:',files)



# import data to variable allData
allData = [pd.read_csv(path+file) for file in files] # ler txts e colocar na lista
print(type(allData)) # confere que é uma lista



# make a df variable with data, to allow naming columns
all = pd.concat(allData, axis=1) # concatenar em um df?

all.columns = [file[0:8] for file in files] # nomes das colunas conforme arquivos
print(type(all)) # confere que é um df



# make datetime vector with data interval
#del(dtime)
dtime = pd.date_range(start=d_start, end=d_end, freq=d_interv)
dtime
type(dtime) # confere que é datetimeindex



# assign vector do df column
all['datetime'] = dtime
#all # print variable


# transforma em datetime
all['datetime'] = pd.to_datetime(all['datetime'])
#all # print variable


# transform datetime to index
all.set_index('datetime', inplace=True) # por alguma razao desconhecida só funciona se substituir a columa e nao repetir
print(all.index) #confere


# cria colunas mes ano dia
all.index.year
all['year'] = all.index.year
all['month'] = all.index.month
all['day'] = all.index.day
all # print variable


# save DataFrame to pickle file
all.to_pickle('D:/ENS410064/Dados/ExAulas/'+'df_aula.pkl')
# salvar df to csv
all.to_csv('D:/ENS410064/Dados/ExAulas/'+'dfaula.csv')


# abrir dataframe # read DataFrame from pickle file
Qdia = pd.read_pickle('D:/ENS410064/Dados/ExAulas/df_aula.pkl')
Qdia
Qdia.iloc[0:10,27:32]



# plotar vazao diaria
import matplotlib.pyplot as plt
fig, ax = plt.subplots(3)
ax[0].plot(Qdia.iloc[:,0:9])
ax[1].plot(Qdia.iloc[:,10:19])
ax[2].plot(Qdia.iloc[:,20:27])


#fazer medias
Q_monthly = Qdia.resample('M').mean() # serie de vazoes medias mensais
Q_monthly


# medias mensais
Q_month.groupby(Q_monthly.month).mean() # medias mensais


# plotar medias mensais
fig, ax = plt.subplots(3)
ax[0].plot(Q_month.iloc[:,0:9])
ax[1].plot(Q_month.iloc[:,10:19])
ax[2].plot(Q_month.iloc[:,20:27])


# maximas diarias anuais
Qdia_max = Qdia.resample('Y').max() # serie de vazoes maximas diarias anuais
# como ignorar NaN?



# calcular Q7,10
Q7med = Qdia.rolling(7).mean() # media movel de 7 dias na serie inteira
Q7anual = Q7med.resample('Y').min() # serie de minimas anuais de médias de sete dias
# drop year day month columns
Q7med.drop(['year', 'month', 'day'], axis=1, inplace=True)
Q7anual.drop(['year', 'month', 'day'], axis=1, inplace=True)


# find best distribution fit

# Import library
from distfit import distfit

dfit = distfit()        # Initialize 



del(q7t) # clear temp var
q7t = Q7anual['65028000'] # make temporary variable
q7t = q7t.dropna() # drop NaNs
q7t.sort_values(ascending=True, inplace=True) # sort ascending
q7t





# Determine best-fitting probability distribution for data
# loop for each station
for column in Q7anual:
    # first, order values and drop NaNs
    q7t = Q7anual(column) # reassign to temporary variable
    
   


 dfit.fit_transform(q7t)


# Distribution parameters for best fit
dfit.model


dfit.plot()


dfit.plot_summary()


# QQ-plot for top 10 fitted distributions

fig, ax = dfit.qqplot(q7t, n_top=10)


# Plot PDF

fig, ax = dfit.plot(chart='pdf')


# Add the CDF to the plot

fig, ax = dfit.plot(chart='cdf', n_top=1, ax=ax)
