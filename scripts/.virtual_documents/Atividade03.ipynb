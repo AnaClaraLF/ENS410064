import pandas as pd
import geopandas as gpd
from matplotlib import pyplot as plt
import rasterio
import rasterio.features
from rasterio.mask import mask
from rasterio.plot import show
import os 
import numpy as np
from rasterstats import zonal_stats
import fiona


# #br = gpd.read_file(r'Z:\- GIS -\IBGE\SC_Municipios_2020\SC_Municipios_2020.shp')
sc = gpd.read_file(r'D:\GeoBase\IBGE\SC_Municipios_2022\SC_Municipios_2022.shp')
sc[sc['NM_MUNICIPIOS']=='FLORIANÓPOLIS'].plot
# fig,ax = plt.subplots()
# #br.plot(ax=ax)

# #br[br['SIGLA_UF']=='SC'].explore()
# sc[sc['SIGLA_UF']=='SC'].explore('AREA_KM2')


#srtm = rasterio.open(r'Z:\- GIS -\SRTM\SRTM_SC_UTM.tif')
srtm = rasterio.open(r'D:\GeoBase\EPAGRI\SRTM\SRTM_SC_UTM_SIRGAS.tif') #SRTM_SC_UTM_SIRGAS.tif')
srtm.width



srtm.height


{i: dtype for i, dtype in zip(srtm.indexes, srtm.dtypes)}


srtm.bounds


srtm.crs


srtm.indexes


band1 = srtm.read(1)
band1


 affine = srtm.transform


# no data values of the original raster
no_data=srtm.nodata
print(no_data)


# change no data values?
# Replace nodata values with a new value (e.g., 0) new_raster_data = np.where(raster_data == nodata_value, 0, raster_data) 


show(srtm, cmap='terrain')#, legend = True)


#shape1 = gpd.read_file(r'Z:\- GIS -\IBGE\vegetacao\VG_REG_FITO_UTM_SC.shp')
shape1 = gpd.read_file(r'D:\GeoBase\IBGE\VG_REG_FITO\VG_REG_FITO_UTM.shp')
shape1.crs


# clip shapefile SC
#sc = gpd.read_file(r'Z:\- GIS -\IBGE\SC_utm.shp')
sc = gpd.read_file(r'D:\GeoBase\IBGE\SC_UTM.shp')
shape = gpd.clip(shape1 , sc)



#shape1.to_file(r'Z:\- GIS -\IBGE\vegetacao\VG_REG_FITO_UTM_SC_clip.shp')
shape.to_file(r'D:\GeoBase\IBGE\VG_REG_FITO\VG_REG_FITO_UTM_SC.shp')


# filter out empty or null geometries
#shape1 = shape1[~(shape1['geometry'].is_empty | shape1['geometry'].isna())]


shape.geometry


# define other statistics
from __future__ import division
import numpy.ma as ma

def acima1500(x):
     return np.count_nonzero(x>=1500) # so funciona para um poligono? não sei porque nao deu certo
    
# def perc1500m(x):
#     return (lambda x: ((x >= 1500).sum()) / (x.count))(x) #nao funcionou


del(gdf2)


#srtm = rasterio.open(r'Z:\- GIS -\SRTM\SRTM_SC_UTM_.tif')
srtm = rasterio.open(r'D:\GeoBase\EPAGRI\SRTM\srtm_sc_utm_sirgas2000.tif')
#shape1 = gpd.read_file(r'Z:\- GIS -\IBGE\vegetacao\VG_REG_FITO_UTM_SC_clip.shp')
shape1  = gpd.read_file(r'D:\GeoBase\IBGE\VG_REG_FITO\VG_REG_FITO_UTM_SC.shp')

with srtm as src:
    affine = src.transform
    array = src.read(1)
    nodata = src.nodata
    df_zonal_stats = pd.DataFrame(zonal_stats(shape1, array, affine=affine, nodata=nodata, stats="count min mean max percentile_10 percentile_90 percentile_95", add_stats={'acima1500':acima1500}))  
    #, 'perc1500m':perc1500m }))

# adding statistics back to original GeoDataFrame
gdf2 = pd.concat([shape1, df_zonal_stats], axis=1) 
# change column names
gdf2 = gdf2.rename(index=str,columns={"percentile_10" : "perc10" , "percentile_90" : "perc90", "percentile_95" : "perc95"})
gdf2.columns



gdf2


#gdf2.to_file(r'C:\Users\anafranco\Documents\ENS410064\atividade03.shp')  
gdf2.to_file(r'D:\PPGEA\AulaPy\atividade03.shp')  


#srtm = rasterio.open(r'Z:\- GIS -\SRTM\SRTM_SC_UTM_.tif')
srtm = rasterio.open(r'D:\GeoBase\EPAGRI\SRTM\SRTM_SC_UTM_SIRGAS.tif') 
#sc = gpd.read_file(r'Z:\- GIS -\IBGE\SC_UTM.shp')
sc = gpd.read_file(r'D:\GeoBase\IBGE\SC_UTM.shp')
# calcular quanto da área de SC está acima de 1500 m 
with srtm as src:
    affine = src.transform
    array = src.read(1)
    nodata = src.nodata
    df_zonal_stats2 = pd.DataFrame(zonal_stats(sc, array, affine=affine, nodata=nodata, stats="count mean max percentile_50 percentile_90 percentile_95 percentile_99", add_stats={'acima1500':acima1500}))
    #df_zonal_stats2 = zonal_stats(sc, array, affine=affine, stats="count mean max percentile_50 percentile_90 percentile_95 percentile_99", add_stats={'acima1500':acima1500})

# adding statistics back to original GeoDataFrame
gdf3 = pd.concat([sc, df_zonal_stats2], axis=1) 
# change column names
gdf3 = gdf3.rename(index=str,columns={"percentile_50" : "perc50" , "percentile_90" : "perc90", "percentile_95" : "perc95", "percentile_99" : "perc99"})
gdf3.columns


#srtm  = rasterio.open(r'Z:\- GIS -\SRTM\SRTM_SC_UTM_clip.tif')
srtm = rasterio.open(r'D:\GeoBase\EPAGRI\SRTM\SRTM_SC_UTM_SIRGAS.tif') 
array = srtm.read(1)
np.count_nonzero(array>=1500)


gdf3


#gdf3.to_file(r'C:\Users\anafranco\Documents\ENS410064\altitudeSC.shp')  
gdf3.to_file(r'D:\PPGEA\AulaPy\altitudeSC.shp')  



srtm.res



