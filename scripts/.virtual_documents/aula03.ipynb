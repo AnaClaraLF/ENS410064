








import numpy as np

#criando um vetor de dados aleatorio
data = np.random.rand(1000,2)
#verificando tamanho do vetor
print(data.shape)
print(np.size(data))
# print amostra de dados, primeiros dados
print(data[0:10])
print(data[0:10].shape)


# usando monte-carlo
dataMax = 1000
dataMin = 10
data = (dataMax - dataMin) * data + dataMin
print(data[0:10])


import matplotlib.pyplot as plt

fig, ax = plt.subplots(3)
ax[0].plot(data)
ax[1].plot(data[:,1])
ax[2].plot(data[:,0])


# criando um dado 2D formato senoidal
data3d = np.sin(np.random.rand(1000,1000))
# plotando um dado 3D
fig2, ax2 = plt.subplots()
ax2.pcolor(data3d)


# criando vetor temporal de datas
dtime = np.arange(np.datetime64("2022-01-01"), np.datetime64("2023-01-01") , np.timedelta64 (1, "h"))
print(dtime[0:10])
print(dtime.shape)
print(type(dtime))





import pandas as pd
df = pd.DataFrame()
print(df)


df['datetime'] = dtime
df


df['random'] = np.random.rand(df.shape[0])
df


df.iloc[0,:]


df = df.set_index(df['datetime'])
df


df.index.year
df['year'] = df.index.year
df['month'] = df.index.month
df['day'] = df.index.day
df[df['month'] == 1]


#adicionar sazonalidade
tt = np.arange(0,df.shape[0],1)
print(tt.shape)
df['sazonal'] = np.cos(tt/(8760/(2*np.pi)))
df['TimeSeries'] = 10*df['sazonal'] + df['random']
#df['sazonal'].plot()
df['TimeSeries'].plot(color='red')


# salvar meu dataframe
df.to_csv(r'D:\ENS410064\Dados\ExAulas\noise2022.csv')


# abrindo .csv
path = 'D:/ENS410064/Dados/ExAulas/'
dataSino = pd.read_csv(path)



# criando uma funcao
def criaRuido(path, year):

    """esta funcao cria um ruido aleatorio com sazonalidade"""
    
    #criando um dataframe
    df = pd.DataFrame()

    #criando vetor temporal
    dtime = np.arange(np.datetime64(str(year)+"-01-01"), np.datetime64(str(year)+"-01-01") , np.timedelta64 (1, "h"))
    df['datetime'] = dtime
    
    #montando um df
    df['random'] = np.random.rand(df.shape[0])
    
    #datetime como index do df
    df = df.set_index(df['datetime'])

    df.index.year
    df['year'] = df.index.year
    df['month'] = df.index.month
    df['day'] = df.index.day

    #adicionar sazonalidade
    tt = np.arange(0,df.shape[0],1)
    print(tt.shape)
    df['sazonal'] = np.cos(tt/(8760/(2*np.pi)))
    df['TimeSeries'] = 10*df['sazonal'] + df['random']
    
    #salvar csv
    df.to_csv(path+'/noise_'+str(year)+'.csv')

    return df


criaRuido('D:/ENS410064/Dados/ExAulas' , 2021 )




anos = [2001, 2030, 2032, 2053]

for ano in anos:
    print(ano)
    df = criaRuido(path, ano)


import os
files = os.listdir(path)
print(files)

allData = []

for file in files:
    if file.endswith('.csv'):
        print(file)
        data = pd.read_csv(path+file)
        allData.append(data)



